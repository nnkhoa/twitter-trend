{
 "metadata": {
  "language_info": {
   "codemirror_mode": {
    "name": "ipython",
    "version": 3
   },
   "file_extension": ".py",
   "mimetype": "text/x-python",
   "name": "python",
   "nbconvert_exporter": "python",
   "pygments_lexer": "ipython3",
   "version": "3.8.5-final"
  },
  "orig_nbformat": 2,
  "kernelspec": {
   "name": "python3",
   "display_name": "Python 3.8.5 64-bit ('twitter': conda)",
   "metadata": {
    "interpreter": {
     "hash": "9a7792acf25e8797fab3c674d79690d254e723492b4b5eb6b43e888f7969c977"
    }
   }
  }
 },
 "nbformat": 4,
 "nbformat_minor": 2,
 "cells": [
  {
   "cell_type": "code",
   "execution_count": 1,
   "metadata": {},
   "outputs": [],
   "source": [
    "from os import listdir\n",
    "from os.path import isfile, join\n",
    "import sys \n",
    "import random\n",
    "import itertools\n",
    "\n",
    "import jsonl_parser\n",
    "import text_preprocess\n",
    "import text_features\n",
    "import data_seperation\n",
    "\n",
    "import pandas as pd\n",
    "import numpy as np\n",
    "\n",
    "def load_raw_data(folder_path, trend_list, lang, verbose):\n",
    "    # all_file = [join(folder_path, f) for f in listdir(folder_path) if isfile(join(folder_path, f))]\n",
    "    # n_sample = 40\n",
    "\n",
    "    list_file = [join(folder_path, f + \".jsonl\") for f in trend_list if isfile(join(folder_path, f +  \".jsonl\"))]\n",
    "\n",
    "    data = []\n",
    "\n",
    "    # if n_sample > len(trend_list):\n",
    "    #     n_sample = len(trend_list)\n",
    "\n",
    "    # for f in list_file[:n_sample]:\n",
    "    for f in list_file:\n",
    "        data.extend(jsonl_parser.load_jsonl(f, verbose))\n",
    "\n",
    "    print() \n",
    "\n",
    "    data_lang = [entry for entry in data if entry['lang'] == lang]\n",
    "\n",
    "    return data_lang\n",
    "\n",
    "def print_top_word(model, features_name, num_words):\n",
    "    for topic_idx, topic in enumerate(model.components_):\n",
    "        message = \"Topic #%d: \" % topic_idx\n",
    "        message += \" / \".join(features_name[i] for i in topic.argsort()[:-num_words - 1:-1])\n",
    "        print(message)\n",
    "    \n",
    "    print()"
   ]
  },
  {
   "source": [
    "## Data Loading"
   ],
   "cell_type": "markdown",
   "metadata": {}
  },
  {
   "source": [
    "### Load annotated data"
   ],
   "cell_type": "markdown",
   "metadata": {}
  },
  {
   "cell_type": "code",
   "execution_count": 9,
   "metadata": {},
   "outputs": [
    {
     "output_type": "stream",
     "name": "stderr",
     "text": [
      "Traceback (most recent call last):\n",
      "  File \"/Users/khoanguyen/Workspace/git/twitter-trend/jsonl_parser.py\", line 12, in load_jsonl\n",
      "    data.append(json.loads(line.rstrip('\\n|\\r')))\n",
      "  File \"/Users/khoanguyen/miniconda3/envs/twitter/lib/python3.8/json/__init__.py\", line 357, in loads\n",
      "    return _default_decoder.decode(s)\n",
      "  File \"/Users/khoanguyen/miniconda3/envs/twitter/lib/python3.8/json/decoder.py\", line 337, in decode\n",
      "    obj, end = self.raw_decode(s, idx=_w(s, 0).end())\n",
      "  File \"/Users/khoanguyen/miniconda3/envs/twitter/lib/python3.8/json/decoder.py\", line 353, in raw_decode\n",
      "    obj, end = self.scan_once(s, idx)\n",
      "json.decoder.JSONDecodeError: Unterminated string starting at: line 1 column 662 (char 661)\n",
      "\n"
     ]
    }
   ],
   "source": [
    "trend_type = None\n",
    "\n",
    "annotated = data_seperation.get_data(trend_type)\n",
    "\n",
    "trend_type = annotated[['id', 'type']]\n",
    "trend_hash = annotated['id'].tolist()\n",
    "trend_name = annotated['name'].tolist()\n",
    "trend_dict = dict(zip(trend_hash, trend_name))\n"
   ]
  },
  {
   "source": [
    "### Load Tweet Data"
   ],
   "cell_type": "markdown",
   "metadata": {}
  },
  {
   "cell_type": "code",
   "execution_count": null,
   "metadata": {},
   "outputs": [],
   "source": [
    "data = load_raw_data('/Users/khoanguyen/Workspace/dataset/twitter-trending/TT-classification/dataset-full/', trend_hash, 'en', False)\n",
    "\n",
    "df = pd.DataFrame(data)"
   ]
  },
  {
   "source": [
    "### Mapping Trend from annotated dataframe into Tweet data "
   ],
   "cell_type": "markdown",
   "metadata": {}
  },
  {
   "cell_type": "code",
   "execution_count": null,
   "metadata": {},
   "outputs": [],
   "source": [
    "df['trend_name'] = df['trend_hash'].map(trend_dict)\n",
    "\n",
    "df['trend_hash'].value_counts()\n",
    "\n",
    "df['text'] = df['text'].apply(lambda x: text_preprocess.remove_hyperlink(x))\n",
    "\n",
    "df_trend = df[['text', 'trend_hash', 'trend_name']]\n",
    "\n",
    "trend_label = text_features.trend_mapping(set(df_trend['trend_hash'].tolist()))\n",
    "\n",
    "df_trend = (df_trend.merge(trend_type, left_on='trend_hash', right_on='id').reindex(columns=['text', 'trend_hash', 'trend_name', 'type']))\n",
    "\n",
    "df_trend['label'] = df_trend.apply(lambda row: trend_label[row.trend_hash], axis=1)"
   ]
  },
  {
   "source": [
    "### Removing trend with less than 10 tweets (if neccessary)"
   ],
   "cell_type": "markdown",
   "metadata": {}
  },
  {
   "cell_type": "code",
   "execution_count": null,
   "metadata": {},
   "outputs": [],
   "source": [
    "df_trend = df_trend.groupby('label')\n",
    "df_trend = df_trend.filter(lambda x: len(x) > 10)"
   ]
  },
  {
   "source": [
    "## Text Features \n",
    "\n",
    "### Unigram "
   ],
   "cell_type": "markdown",
   "metadata": {}
  },
  {
   "cell_type": "code",
   "execution_count": 11,
   "metadata": {},
   "outputs": [],
   "source": [
    "tf_uni, features_uni = text_features.generate_term_freq(df['text'], 1)\n",
    "\n",
    "tf_uni_array = tf_uni.toarray()\n"
   ]
  },
  {
   "source": [
    "### Bigram "
   ],
   "cell_type": "markdown",
   "metadata": {}
  },
  {
   "cell_type": "code",
   "execution_count": 5,
   "metadata": {},
   "outputs": [],
   "source": [
    "tf_bi, features_bi = text_features.generate_term_freq(df_trend['text'], 2)\n",
    "\n",
    "tf_bi_array = tf_bi.toarray()\n"
   ]
  },
  {
   "source": [
    "### TF-IDF"
   ],
   "cell_type": "markdown",
   "metadata": {}
  },
  {
   "cell_type": "code",
   "execution_count": 6,
   "metadata": {},
   "outputs": [],
   "source": [
    "tfidf, terms = text_features.generate_tfidf(df_trend['text'])\n",
    "\n",
    "tfidf_array = tfidf.toarray()"
   ]
  },
  {
   "source": [
    "### TF-IDF without removing special character and keep true casing - Loose TF-IDF"
   ],
   "cell_type": "markdown",
   "metadata": {}
  },
  {
   "cell_type": "code",
   "execution_count": 7,
   "metadata": {},
   "outputs": [],
   "source": [
    "from sklearn.feature_extraction.text import TfidfVectorizer\n",
    "\n",
    "tfidf_vector = TfidfVectorizer(lowercase=False,\n",
    "                                token_pattern=r'\\S+',\n",
    "                                stop_words='english')\n",
    "\n",
    "loose_tfidf = tfidf_vector.fit_transform(df_trend['text'])"
   ]
  },
  {
   "source": [
    "### Latent Dirichlet Allocation - 2gram"
   ],
   "cell_type": "markdown",
   "metadata": {}
  },
  {
   "cell_type": "code",
   "execution_count": null,
   "metadata": {},
   "outputs": [],
   "source": [
    "from sklearn.decomposition import LatentDirichletAllocation\n",
    "\n",
    "lda = LatentDirichletAllocation(n_components=len(trend_name),\n",
    "                                    max_iter=10, \n",
    "                                    learning_method='online', \n",
    "                                    learning_offset=50.,\n",
    "                                    random_state=0)\n",
    "\n",
    "lda.fit(tf_bi)\n",
    "\n",
    "print_top_word(lda, features, 10)"
   ]
  },
  {
   "source": [
    "## K-Means clustering"
   ],
   "cell_type": "markdown",
   "metadata": {}
  },
  {
   "cell_type": "code",
   "execution_count": null,
   "metadata": {},
   "outputs": [],
   "source": [
    "from sklearn.cluster import KMeans\n",
    "from sklearn import metrics\n",
    "\n",
    "labels = df_trend['label'].tolist()\n",
    "true_k = len(set(labels))\n",
    "\n",
    "km = KMeans(n_clusters=true_k, init='k-means++', max_iter=100, n_init=1,\n",
    "            verbose=1)\n",
    "km.fit(tfidf)\n",
    "\n",
    "print(\"Homogeneity: %0.3f\" % metrics.homogeneity_score(labels, km.labels_))\n",
    "print(\"Completeness: %0.3f\" % metrics.completeness_score(labels, km.labels_))\n",
    "print(\"V-measure: %0.3f\" % metrics.v_measure_score(labels, km.labels_))\n",
    "print(\"Adjusted Rand-Index: %.3f\"\n",
    "                    % metrics.adjusted_rand_score(labels, km.labels_))\n",
    "\n",
    "order_centroids = km.cluster_centers_.argsort()[:, ::-1]\n",
    "\n",
    "for i in range(true_k):\n",
    "    print(\"Cluster %d:\" % i, end='')\n",
    "    for ind in order_centroids[i, :10]:\n",
    "        print(' %s /' % terms[ind], end='')\n",
    "    print()\n"
   ]
  },
  {
   "source": [
    "## Classification:\n",
    "\n",
    "### Linear SVM with TFIDF "
   ],
   "cell_type": "markdown",
   "metadata": {}
  },
  {
   "cell_type": "code",
   "execution_count": 7,
   "metadata": {
    "tags": [
     "outputPrepend"
    ]
   },
   "outputs": [
    {
     "output_type": "stream",
     "name": "stdout",
     "text": [
      "8      1.00      0.99        42\n                  Bulgari       0.97      1.00      0.98        60\n                  Diabate       0.97      0.96      0.97       206\n                  #tweutr       0.97      0.97      0.97        68\n                  Ashthon       1.00      1.00      1.00        28\n                 Nia Long       1.00      1.00      1.00        33\n            Jurassic Park       0.99      0.99      0.99       180\n            Nike Eyebrows       1.00      0.96      0.98        48\n   #welcometoirelandbiebs       0.99      1.00      1.00       127\n               Eat Bulaga       0.93      0.68      0.79        19\n                Simon Rex       1.00      0.98      0.99        62\n                    Papac       0.98      1.00      0.99       252\n        Two Movie Tickets       0.97      0.98      0.97       213\n                 Hartnell       1.00      0.98      0.99        46\n                   Carice       1.00      1.00      1.00        49\n               #biwinning       0.99      1.00      0.99        67\n                   Agassi       0.99      0.99      0.99       251\n              Evan Bourne       0.94      0.96      0.95        48\n                  Jorgito       0.90      0.97      0.94       151\n                UNC\\/Duke       1.00      1.00      1.00        24\n     Christopher Hitchens       1.00      1.00      1.00         5\n             Pete Sampras       0.99      1.00      1.00       209\n              Diego Alves       0.77      0.76      0.77        99\n              Rick Barnes       1.00      1.00      1.00        31\n          Harrison Barnes       0.99      1.00      0.99       202\n                  Negredo       0.97      0.99      0.98       115\n          Stefano Langone       0.97      0.96      0.96       235\n             Phil Collins       0.98      0.98      0.98       196\n           Sandhy Sondoro       0.99      1.00      1.00       227\n                  Lavínia       0.94      0.97      0.95        63\n                Max Boyce       0.99      0.97      0.98       127\n       Pernilla Andersson       1.00      0.95      0.98        21\n                   Beluga       0.95      1.00      0.97        18\n            Sarah Marquis       1.00      1.00      1.00       173\n             Jersey Floor       1.00      0.95      0.97        40\n      Stone Temple Pilots       1.00      1.00      1.00        31\n       Dear Rolling Stone       0.97      1.00      0.99       101\n                Selah Sue       1.00      1.00      1.00         4\n             Skip Bayless       0.99      1.00      0.99        76\n             ProudOfJonas       0.92      0.94      0.93        48\n     WeLoveMichaelJackson       0.70      0.55      0.62        29\n            Wadah Khanfar       1.00      1.00      1.00         8\n          Franklin Street       1.00      0.83      0.91        12\n             Mountain Dew       1.00      1.00      1.00       100\n             Yusuf Pathan       1.00      0.92      0.96        13\n                 Dateline       0.98      0.98      0.98       174\n               Gary Busey       1.00      1.00      1.00        28\n          Angelique Boyer       0.99      0.99      0.99       236\n              Taylor Hall       1.00      0.99      0.99        93\n              Zach Porter       1.00      1.00      1.00        14\n              Battlefield       1.00      1.00      1.00         7\n           Two & Half Men       1.00      0.99      0.99       187\n                  Balmain       0.99      0.97      0.98       110\n                     MOTU       1.00      1.00      1.00        36\n          Captain Haddock       1.00      1.00      1.00        35\n                   Jovany       1.00      1.00      1.00         7\n          EXPERIMENTE941B       1.00      1.00      1.00        88\n           Alessio Sakara       1.00      1.00      1.00        30\n                    Isner       1.00      0.99      0.99       216\n                  Fashola       0.98      0.97      0.98        61\n             Kemba Walker       0.97      0.83      0.90       217\n                    DeRay       1.00      0.99      0.99       244\n                     CHUM       0.96      1.00      0.98        22\n            Still Winning       1.00      1.00      1.00        60\n          Rob Niedermayer       0.99      0.99      0.99       148\n         Kendall Marshall       0.96      0.99      0.98       189\n                   Sziget       1.00      1.00      1.00         4\n               Tony Greig       0.98      0.98      0.98        42\n            Nelly Furtado       0.83      1.00      0.91         5\n              Smart Cover       1.00      1.00      1.00        31\n                Sarah Kay       0.90      0.96      0.93       108\n                 Gretchen       0.99      0.98      0.98       154\n        After School Boys       0.88      0.81      0.84        95\n             #sorryjustin       0.97      0.99      0.98       175\n            #breakuptexts       0.99      0.99      0.99       124\n       Dorito Bags Though       0.98      1.00      0.99        64\n                 Fandango       0.99      0.99      0.99       142\n      Ban Bathroom Models       0.99      0.96      0.97        79\n                 Dollaway       1.00      1.00      1.00       150\n              Jody Bernal       1.00      1.00      1.00       255\n        Marlon Stockinger       1.00      1.00      1.00        69\n                    Bunji       0.95      0.96      0.96       200\n               Papa Wemba       1.00      1.00      1.00       137\n          Harvey Fineberg       1.00      0.95      0.98        22\n          Karen Rodriguez       0.99      0.99      0.99        74\n         Nicholas Parsons       0.87      0.92      0.89       167\n                   Tokoto       0.99      0.97      0.98       179\n            Lakers\\/Spurs       0.98      1.00      0.99       200\n           Melvin Manhoef       1.00      1.00      1.00         4\n          Cherries Though       0.83      0.88      0.86        34\n               Pat Knight       0.94      1.00      0.97        15\n                    McRib       1.00      1.00      1.00        45\n           Football Focus       1.00      0.97      0.98        30\n                    Bercy       0.88      0.97      0.92       113\n            Fabio Aurelio       1.00      1.00      1.00         8\n           Little Rascals       0.96      0.99      0.97       174\n                 Masvidal       1.00      1.00      1.00       154\n                Spoelstra       0.88      0.88      0.88        17\n           Reinaldo Armas       0.97      0.99      0.98       117\n                     Hawn       0.96      0.99      0.98       107\n                 #wonders       1.00      0.98      0.99        46\n              Mike Miller       0.95      0.88      0.91       146\n                Joe Swash       1.00      1.00      1.00         9\n             Yuvraj Singh       1.00      1.00      1.00        20\n               Larry Lamb       1.00      1.00      1.00         3\n                 #factorx       0.95      0.99      0.97       210\n         Nitro JavaScript       1.00      1.00      1.00        38\n             Judas Priest       1.00      1.00      1.00        16\n              Arjun Singh       1.00      1.00      1.00        67\n             Rhod Gilbert       0.85      0.79      0.82        58\n                      SNL       0.96      0.97      0.96        68\n              Bob Diamond       0.47      0.47      0.47        38\n                 Interpol       1.00      0.97      0.98        29\n          Steven Fletcher       1.00      1.00      1.00        27\n            Prince Andrew       0.95      0.95      0.95       147\n              Mark Halsey       0.90      0.92      0.91        39\n             Coach Knight       1.00      1.00      1.00        18\n                McLobster       1.00      1.00      1.00       214\n        Racial Draft Pick       0.67      0.57      0.62        72\n           Danny Castillo       0.99      1.00      0.99       227\n                      Wyk       1.00      0.98      0.99       171\n                     Fach       1.00      1.00      1.00        15\n                     TAKS       0.98      0.97      0.98        65\n             Michael Ealy       1.00      1.00      1.00       124\n                  Anfield       1.00      1.00      1.00         8\n    Lacefront Malfunction       1.00      1.00      1.00         4\n                      KAΨ       0.85      0.91      0.88        32\n                   Ambien       1.00      0.94      0.97        31\n                #losbulls       0.99      0.97      0.98        86\n            Severus Snape       0.96      0.93      0.95       171\n                Ras Lanuf       1.00      1.00      1.00       148\n             Superman III       0.98      1.00      0.99        58\n           David Walliams       0.57      0.59      0.58       132\n        Janet Albrechtsen       1.00      1.00      1.00        38\n                  Chamakh       1.00      1.00      1.00        75\n       Riccki-Lee Coulter       0.85      1.00      0.92        11\n                  Pantene       1.00      0.83      0.91         6\n                    RTing       1.00      0.80      0.89         5\n                   Glenda       1.00      1.00      1.00        39\n                 Jack Dee       0.96      0.96      0.96        23\n                 Sal Khan       1.00      1.00      1.00         6\n   Paranormal Blacktivity       0.84      0.91      0.87       128\n                Gift Raps       0.98      1.00      0.99        45\n             Essam Sharaf       0.99      0.98      0.99       192\n              Troy Murphy       0.99      0.99      0.99       274\n        Extreme Couponing       1.00      0.89      0.94        38\n                     FCAT       0.96      0.93      0.95       168\n                  Shaunie       1.00      1.00      1.00        14\n           Chelsea Lately       1.00      0.99      0.99       213\n            WeAdoreLovato       0.80      0.90      0.84        78\n  #iftwitterwashighschool       1.00      1.00      1.00        47\n                     HDMI       1.00      1.00      1.00        61\n             Kobalt Tools       1.00      1.00      1.00        20\n             Murray State       0.97      0.94      0.96        34\n                Pat Riley       0.99      0.99      0.99       111\n          Adele Unplugged       1.00      1.00      1.00        28\n              Andy Rooney       0.68      0.57      0.62        81\n          Snuggle Sundays       1.00      1.00      1.00         5\n                     Lent       0.61      0.69      0.65        68\n              White Widow       0.99      1.00      0.99        88\n             Grameen Bank       1.00      1.00      1.00       216\n       Corinne Bailey Rae       0.99      0.98      0.98       227\n               Sara Varga       1.00      1.00      1.00         3\n                   #ajaaz       0.92      0.93      0.92        70\n                 Puncheon       1.00      1.00      1.00       172\n            Piyush Chawla       1.00      0.97      0.99        38\n           Erik Spoelstra       0.99      1.00      1.00       125\n            Liam Halligan       1.00      0.95      0.97        20\n           Thiago Tavares       0.78      0.82      0.80        34\n                  Stefano       0.91      0.97      0.94        30\n            #isbetterthan       0.94      0.95      0.94        93\n              Nancy Grace       1.00      0.98      0.99       209\n              Wayne Brady       1.00      1.00      1.00       231\n             Jane Russell       0.80      0.77      0.79       233\n                 Mestalla       0.98      1.00      0.99        60\n                  Malinga       0.99      0.96      0.98       168\n          Authentic Gucci       0.99      0.99      0.99       214\n              #vasaloppet       0.91      0.94      0.92       144\n               Rabbit Hae       0.98      1.00      0.99       128\n             Jose Canseco       0.99      0.99      0.99       105\n                    Massú       0.99      0.99      0.99       134\n         Haider Ackermann       1.00      1.00      1.00        97\n              Seth Meyers       0.98      0.99      0.99       233\n                  Chrisye       0.90      0.83      0.87        66\n                     UKIP       0.67      0.67      0.67        18\n                  McSushi       0.77      0.74      0.75       217\n             Marina Silva       0.97      0.97      0.97       113\n                Call PETA       1.00      0.99      0.99        76\n                     TTWE       0.92      0.87      0.90       236\n                   Bandra       0.97      0.90      0.93        31\n           Angela Bassett       0.80      0.85      0.82        82\n               Argumental       1.00      1.00      1.00        11\n               Blue Shirt       0.99      0.98      0.98       229\n             Sexting Fail       0.51      0.70      0.59       110\n           Robert Winston       0.99      1.00      1.00       247\n            Warlock Latin       1.00      0.67      0.80         3\n              Kany Garcia       0.97      0.94      0.96        69\n                 Cantwell       1.00      0.94      0.97        69\n                  Roddick       0.99      0.98      0.99       243\n           Mario Chalmers       1.00      1.00      1.00        37\n               Kim Duthie       1.00      1.00      1.00         3\n            Mike Huckabee       1.00      1.00      1.00       168\n              ASDA DATING       1.00      0.90      0.95        10\n              Vicki Keith       1.00      1.00      1.00       214\n             #nickilyrics       1.00      0.98      0.99        44\n              Action Item       0.97      0.98      0.98       208\n        Seriously Atlanta       1.00      1.00      1.00        81\n           Lord Voldemort       0.89      0.93      0.91        43\n           Blankety Blank       1.00      0.99      0.99       240\n              Gus Johnson       0.75      0.86      0.80         7\n          Serena Williams       1.00      0.99      1.00       166\n        #5bestsoundtracks       1.00      1.00      1.00       108\n                  Lil Jon       0.67      0.62      0.65        16\n             Piers Morgan       0.91      0.84      0.87       225\n           Kathryn Schulz       0.79      0.90      0.84       203\n      Any Musiq Soulchild       0.29      0.22      0.25        36\n            Melanie Fiona       0.94      0.95      0.95       169\n                Cory Gunz       0.96      1.00      0.98        22\n                  #mugler       1.00      1.00      1.00         5\n         Governor General       1.00      0.97      0.99        34\n                    Omark       1.00      1.00      1.00         3\n             #ilovemyfans       1.00      0.92      0.96        26\n               Adonis DNA       1.00      1.00      1.00       230\n             Xander Soren       1.00      1.00      1.00        29\n            Rachel Zevita       0.97      1.00      0.99        36\n             Tina Stewart       1.00      1.00      1.00        15\n                Get Gully       0.99      0.99      0.99        84\n              Marlon King       1.00      1.00      1.00        23\n             Raven Symone       1.00      1.00      1.00       227\n           #whenyourblack       0.72      0.68      0.70        19\n   Twilight\\/Harry Potter       1.00      1.00      1.00        91\n                Bill Ford       1.00      0.99      0.99       268\n            Lauren Turner       0.98      0.98      0.98       178\n           Roberta Bondar       1.00      0.99      1.00       111\n              Garage Band       1.00      0.99      0.99       146\n           Arctic Monkeys       0.49      0.38      0.43       185\n                 Alek Wek       0.82      0.65      0.72       186\n          Gerald Anderson       0.95      0.91      0.93       216\n            Galliano Said       0.68      0.59      0.63       241\n                      IE6       0.97      1.00      0.98        28\n                      GDC       0.91      0.97      0.94        31\n                   #ipad2       1.00      1.00      1.00        58\n                    Naima       1.00      1.00      1.00         3\n         Late Night Snack       1.00      1.00      1.00         6\n           Cedric Diggory       1.00      1.00      1.00         4\n                 #guttbye       0.99      1.00      0.99       192\n             Raffi Torres       1.00      1.00      1.00        19\n           Scott Forstall       0.96      0.94      0.95        50\n              Hugh Laurie       1.00      1.00      1.00         4\n             José Padilha       1.00      1.00      1.00        91\n                   Wallen       1.00      1.00      1.00        65\n              Andy Carrol       0.92      1.00      0.96        12\n          Martin Atkinson       1.00      1.00      1.00       197\n             Picture Fail       0.56      0.85      0.68       181\n               John Major       0.71      0.84      0.77        67\n                 Virginio       0.99      0.99      0.99       187\n              Hala Madrid       0.93      0.94      0.94       210\n               #teamsheen       1.00      0.97      0.99        79\n             Vargas Llosa       1.00      1.00      1.00       115\n         #cum2fastexcuses       1.00      1.00      1.00        64\n            Little Rascal       0.57      0.69      0.63       118\n          Terrance Howard       1.00      0.99      1.00       205\n           Jennifer Lopez       1.00      0.98      0.99       181\n               Cornelisse       0.97      0.99      0.98       229\n               Pellegrini       1.00      0.95      0.97        41\n               Balenciaga       0.93      0.94      0.93       235\n             Daniel Akaka       0.98      0.99      0.99       213\n               #ohohtirol       0.99      0.99      0.99       251\n      LovatoIsOurSunshine       0.96      0.97      0.96       213\n               Lisa Rinna       0.99      1.00      1.00       127\n      #neversayneveroscar       0.98      0.89      0.94       130\n                      ΖΦΒ       0.93      0.93      0.93       242\n             Juwan Howard       1.00      1.00      1.00       157\n Paula Deen Riding Things       0.74      0.95      0.83       266\n                  Westpac       1.00      1.00      1.00         7\n            Charlie Sheen       0.97      0.88      0.92       173\n                    Odoms       1.00      1.00      1.00        11\n              Will Eisner       0.99      1.00      1.00       125\n               Thia Megia       1.00      1.00      1.00       141\n  Legally Blonde Starring       1.00      1.00      1.00        85\n                    Hendo       1.00      1.00      1.00        99\n               Fast Times       1.00      0.99      0.99        74\n             Ron Sexsmith       1.00      1.00      1.00       153\n         #thataintwinning       0.96      0.90      0.93        58\n                     OLLG       0.98      0.98      0.98        66\n             Tim Halperin       1.00      1.00      1.00         5\n                      TDT       0.98      1.00      0.99       169\n               AnahiOnEMA       1.00      1.00      1.00       128\n             Frank Martin       0.83      0.83      0.83         6\n               Kris Kross       1.00      1.00      1.00        64\n            Universe♥Gaga       0.90      0.88      0.89       112\n                   Marini       0.91      0.99      0.95       150\n              Terry Crews       0.90      0.95      0.92       142\n          Pablo Hernández       0.60      0.75      0.67         4\n           Watching Taken       1.00      0.86      0.92         7\n          Antonio Damasio       0.40      0.50      0.44         4\n\n                 accuracy                           0.95     84431\n                macro avg       0.94      0.94      0.94     84431\n             weighted avg       0.95      0.95      0.94     84431\n\n"
     ]
    }
   ],
   "source": [
    "from sklearn.svm import LinearSVC\n",
    "\n",
    "\n",
    "class_name = df_trend['trend_name'].tolist()\n",
    "\n",
    "cross_validate = 10\n",
    "\n",
    "entries = []\n",
    "\n",
    "svc_model = LinearSVC()\n",
    "\n",
    "from sklearn.model_selection import train_test_split\n",
    "\n",
    "X_train, X_test, y_train, y_test, indices_train, indices_test = train_test_split(tfidf, class_name, df_trend.index, test_size=0.25, random_state=0, stratify=class_name)\n",
    "svc_model.fit(X_train, y_train)\n",
    "\n",
    "y_pred = svc_model.predict(X_test)\n",
    "\n",
    "from sklearn import metrics\n",
    "\n",
    "print(metrics.classification_report(y_test, y_pred, target_names=df_trend['trend_name'].unique()))"
   ]
  },
  {
   "source": [
    "### Cross 10-fold validation"
   ],
   "cell_type": "markdown",
   "metadata": {}
  },
  {
   "cell_type": "code",
   "execution_count": 11,
   "metadata": {},
   "outputs": [
    {
     "output_type": "stream",
     "name": "stdout",
     "text": [
      "0.9401641108662446\n"
     ]
    }
   ],
   "source": [
    "from sklearn.model_selection import cross_val_score\n",
    "\n",
    "cfv_model = LinearSVC()\n",
    "\n",
    "class_name = df_trend['trend_name'].tolist()\n",
    "\n",
    "cross_validate = 10\n",
    "\n",
    "entries = []\n",
    "\n",
    "accuracies = cross_val_score(cfv_model, tfidf, class_name, scoring='accuracy', cv=cross_validate)\n",
    "\n",
    "for fold_idx, accuracy in enumerate(accuracies):\n",
    "    entries.append((fold_idx, accuracy))\n",
    "\n",
    "cv_df = pd.DataFrame(entries, columns=['fold_idx', 'accuracy'])\n",
    "\n",
    "print(cv_df.accuracy.mean())"
   ]
  },
  {
   "source": [
    "### Naive Bayes with TFIDF"
   ],
   "cell_type": "markdown",
   "metadata": {}
  },
  {
   "cell_type": "code",
   "execution_count": 22,
   "metadata": {
    "tags": [
     "outputPrepend"
    ]
   },
   "outputs": [
    {
     "output_type": "stream",
     "name": "stdout",
     "text": [
      "0      0.36      0.53        42\n                  Bulgari       1.00      0.73      0.85        60\n                  Diabate       0.86      0.98      0.91       206\n                  #tweutr       0.98      0.91      0.95        68\n                  Ashthon       1.00      0.46      0.63        28\n                 Nia Long       1.00      0.79      0.88        33\n            Jurassic Park       0.95      0.99      0.97       180\n            Nike Eyebrows       1.00      0.52      0.68        48\n   #welcometoirelandbiebs       0.96      0.97      0.96       127\n               Eat Bulaga       0.00      0.00      0.00        19\n                Simon Rex       1.00      0.84      0.91        62\n                    Papac       0.83      1.00      0.91       252\n        Two Movie Tickets       0.82      0.98      0.90       213\n                 Hartnell       1.00      0.24      0.39        46\n                   Carice       1.00      0.90      0.95        49\n               #biwinning       0.97      0.57      0.72        67\n                   Agassi       0.79      0.96      0.87       251\n              Evan Bourne       0.97      0.67      0.79        48\n                  Jorgito       0.90      0.91      0.91       151\n                UNC\\/Duke       1.00      0.12      0.22        24\n     Christopher Hitchens       0.00      0.00      0.00         5\n             Pete Sampras       0.95      1.00      0.97       209\n              Diego Alves       0.73      0.84      0.78        99\n              Rick Barnes       1.00      0.74      0.85        31\n          Harrison Barnes       0.93      1.00      0.96       202\n                  Negredo       1.00      0.84      0.92       115\n          Stefano Langone       0.82      0.98      0.89       235\n             Phil Collins       0.95      0.94      0.94       196\n           Sandhy Sondoro       0.88      1.00      0.93       227\n                  Lavínia       1.00      0.06      0.12        63\n                Max Boyce       1.00      0.72      0.83       127\n       Pernilla Andersson       1.00      0.29      0.44        21\n                   Beluga       0.00      0.00      0.00        18\n            Sarah Marquis       0.98      1.00      0.99       173\n             Jersey Floor       1.00      0.25      0.40        40\n      Stone Temple Pilots       1.00      0.48      0.65        31\n       Dear Rolling Stone       0.94      0.97      0.96       101\n                Selah Sue       0.00      0.00      0.00         4\n             Skip Bayless       0.99      1.00      0.99        76\n             ProudOfJonas       1.00      0.50      0.67        48\n     WeLoveMichaelJackson       0.00      0.00      0.00        29\n            Wadah Khanfar       0.00      0.00      0.00         8\n          Franklin Street       0.00      0.00      0.00        12\n             Mountain Dew       1.00      0.88      0.94       100\n             Yusuf Pathan       0.00      0.00      0.00        13\n                 Dateline       0.96      1.00      0.98       174\n               Gary Busey       1.00      0.43      0.60        28\n          Angelique Boyer       0.83      1.00      0.91       236\n              Taylor Hall       1.00      0.84      0.91        93\n              Zach Porter       1.00      0.71      0.83        14\n              Battlefield       0.00      0.00      0.00         7\n           Two & Half Men       0.86      0.99      0.92       187\n                  Balmain       1.00      0.74      0.85       110\n                     MOTU       1.00      0.75      0.86        36\n          Captain Haddock       1.00      0.17      0.29        35\n                   Jovany       0.00      0.00      0.00         7\n          EXPERIMENTE941B       1.00      0.86      0.93        88\n           Alessio Sakara       1.00      0.93      0.97        30\n                    Isner       0.79      1.00      0.88       216\n                  Fashola       1.00      0.92      0.96        61\n             Kemba Walker       0.60      0.97      0.74       217\n                    DeRay       0.75      1.00      0.86       244\n                     CHUM       1.00      0.50      0.67        22\n            Still Winning       0.98      1.00      0.99        60\n          Rob Niedermayer       0.98      0.82      0.90       148\n         Kendall Marshall       0.92      0.99      0.95       189\n                   Sziget       0.00      0.00      0.00         4\n               Tony Greig       0.95      0.50      0.66        42\n            Nelly Furtado       0.00      0.00      0.00         5\n              Smart Cover       1.00      0.55      0.71        31\n                Sarah Kay       0.68      0.99      0.81       108\n                 Gretchen       0.99      0.97      0.98       154\n        After School Boys       0.92      0.13      0.22        95\n             #sorryjustin       0.75      0.99      0.85       175\n            #breakuptexts       0.96      0.97      0.96       124\n       Dorito Bags Though       1.00      0.78      0.88        64\n                 Fandango       1.00      0.78      0.88       142\n      Ban Bathroom Models       0.99      0.94      0.96        79\n                 Dollaway       0.99      0.93      0.96       150\n              Jody Bernal       0.80      0.99      0.88       255\n        Marlon Stockinger       1.00      0.81      0.90        69\n                    Bunji       0.82      0.99      0.90       200\n               Papa Wemba       1.00      0.92      0.96       137\n          Harvey Fineberg       1.00      0.36      0.53        22\n          Karen Rodriguez       0.97      0.95      0.96        74\n         Nicholas Parsons       0.71      0.92      0.80       167\n                   Tokoto       0.93      0.91      0.92       179\n            Lakers\\/Spurs       0.89      0.96      0.92       200\n           Melvin Manhoef       0.00      0.00      0.00         4\n          Cherries Though       1.00      0.03      0.06        34\n               Pat Knight       1.00      0.47      0.64        15\n                    McRib       1.00      0.42      0.59        45\n           Football Focus       1.00      0.53      0.70        30\n                    Bercy       0.95      0.67      0.79       113\n            Fabio Aurelio       0.00      0.00      0.00         8\n           Little Rascals       0.99      0.94      0.96       174\n                 Masvidal       0.99      1.00      1.00       154\n                Spoelstra       1.00      0.06      0.11        17\n           Reinaldo Armas       1.00      0.95      0.97       117\n                     Hawn       0.98      0.84      0.90       107\n                 #wonders       1.00      0.67      0.81        46\n              Mike Miller       0.96      0.82      0.88       146\n                Joe Swash       1.00      1.00      1.00         9\n             Yuvraj Singh       1.00      0.05      0.10        20\n               Larry Lamb       0.00      0.00      0.00         3\n                 #factorx       0.89      0.97      0.92       210\n         Nitro JavaScript       1.00      0.63      0.77        38\n             Judas Priest       1.00      1.00      1.00        16\n              Arjun Singh       1.00      0.69      0.81        67\n             Rhod Gilbert       1.00      0.09      0.16        58\n                      SNL       1.00      0.72      0.84        68\n              Bob Diamond       0.00      0.00      0.00        38\n                 Interpol       1.00      0.72      0.84        29\n          Steven Fletcher       1.00      0.56      0.71        27\n            Prince Andrew       0.98      0.93      0.95       147\n              Mark Halsey       1.00      0.28      0.44        39\n             Coach Knight       1.00      0.44      0.62        18\n                McLobster       0.95      0.99      0.97       214\n        Racial Draft Pick       0.57      0.82      0.67        72\n           Danny Castillo       0.75      1.00      0.86       227\n                      Wyk       0.93      0.98      0.96       171\n                     Fach       0.00      0.00      0.00        15\n                     TAKS       1.00      0.68      0.81        65\n             Michael Ealy       0.96      0.98      0.97       124\n                  Anfield       0.00      0.00      0.00         8\n    Lacefront Malfunction       0.00      0.00      0.00         4\n                      KAΨ       0.71      0.31      0.43        32\n                   Ambien       0.00      0.00      0.00        31\n                #losbulls       0.99      0.78      0.87        86\n            Severus Snape       0.84      0.95      0.89       171\n                Ras Lanuf       0.97      1.00      0.99       148\n             Superman III       0.90      0.16      0.26        58\n           David Walliams       0.52      0.58      0.55       132\n        Janet Albrechtsen       1.00      0.95      0.97        38\n                  Chamakh       1.00      0.89      0.94        75\n       Riccki-Lee Coulter       1.00      0.18      0.31        11\n                  Pantene       0.00      0.00      0.00         6\n                    RTing       0.00      0.00      0.00         5\n                   Glenda       1.00      0.77      0.87        39\n                 Jack Dee       1.00      0.57      0.72        23\n                 Sal Khan       0.00      0.00      0.00         6\n   Paranormal Blacktivity       0.81      0.82      0.82       128\n                Gift Raps       0.97      0.69      0.81        45\n             Essam Sharaf       0.94      0.99      0.96       192\n              Troy Murphy       0.76      1.00      0.86       274\n        Extreme Couponing       1.00      0.61      0.75        38\n                     FCAT       0.87      0.96      0.91       168\n                  Shaunie       0.00      0.00      0.00        14\n           Chelsea Lately       0.99      0.99      0.99       213\n            WeAdoreLovato       0.75      0.92      0.83        78\n  #iftwitterwashighschool       1.00      0.70      0.82        47\n                     HDMI       0.98      0.84      0.90        61\n             Kobalt Tools       1.00      1.00      1.00        20\n             Murray State       1.00      0.47      0.64        34\n                Pat Riley       0.99      0.96      0.98       111\n          Adele Unplugged       0.00      0.00      0.00        28\n              Andy Rooney       1.00      0.17      0.29        81\n          Snuggle Sundays       0.00      0.00      0.00         5\n                     Lent       0.65      0.88      0.75        68\n              White Widow       0.97      0.44      0.61        88\n             Grameen Bank       0.90      1.00      0.95       216\n       Corinne Bailey Rae       0.75      1.00      0.85       227\n               Sara Varga       0.00      0.00      0.00         3\n                   #ajaaz       0.94      0.21      0.35        70\n                 Puncheon       0.99      1.00      0.99       172\n            Piyush Chawla       1.00      0.68      0.81        38\n           Erik Spoelstra       1.00      0.99      1.00       125\n            Liam Halligan       0.00      0.00      0.00        20\n           Thiago Tavares       1.00      0.03      0.06        34\n                  Stefano       1.00      0.23      0.38        30\n            #isbetterthan       0.92      0.86      0.89        93\n              Nancy Grace       0.95      0.99      0.97       209\n              Wayne Brady       0.83      1.00      0.91       231\n             Jane Russell       0.81      0.52      0.63       233\n                 Mestalla       1.00      0.93      0.97        60\n                  Malinga       0.99      0.95      0.97       168\n          Authentic Gucci       0.91      0.96      0.93       214\n              #vasaloppet       0.90      0.88      0.89       144\n               Rabbit Hae       0.98      0.95      0.96       128\n             Jose Canseco       0.99      1.00      1.00       105\n                    Massú       0.98      0.94      0.96       134\n         Haider Ackermann       0.99      1.00      0.99        97\n              Seth Meyers       0.81      0.99      0.89       233\n                  Chrisye       0.98      0.67      0.79        66\n                     UKIP       0.55      0.33      0.41        18\n                  McSushi       0.63      0.87      0.73       217\n             Marina Silva       0.96      0.94      0.95       113\n                Call PETA       1.00      0.93      0.97        76\n                     TTWE       0.68      0.91      0.78       236\n                   Bandra       0.00      0.00      0.00        31\n           Angela Bassett       0.74      0.63      0.68        82\n               Argumental       0.00      0.00      0.00        11\n               Blue Shirt       0.69      0.98      0.81       229\n             Sexting Fail       0.51      0.90      0.65       110\n           Robert Winston       0.90      1.00      0.95       247\n            Warlock Latin       0.00      0.00      0.00         3\n              Kany Garcia       0.95      0.78      0.86        69\n                 Cantwell       1.00      0.62      0.77        69\n                  Roddick       0.92      0.98      0.95       243\n           Mario Chalmers       1.00      0.65      0.79        37\n               Kim Duthie       0.00      0.00      0.00         3\n            Mike Huckabee       0.98      0.92      0.95       168\n              ASDA DATING       0.00      0.00      0.00        10\n              Vicki Keith       0.94      1.00      0.97       214\n             #nickilyrics       1.00      0.34      0.51        44\n              Action Item       0.84      0.97      0.90       208\n        Seriously Atlanta       1.00      0.99      0.99        81\n           Lord Voldemort       1.00      0.40      0.57        43\n           Blankety Blank       0.83      0.97      0.89       240\n              Gus Johnson       0.00      0.00      0.00         7\n          Serena Williams       0.99      0.98      0.98       166\n        #5bestsoundtracks       0.97      1.00      0.99       108\n                  Lil Jon       0.78      0.44      0.56        16\n             Piers Morgan       0.52      0.80      0.63       225\n           Kathryn Schulz       0.49      0.80      0.60       203\n      Any Musiq Soulchild       0.50      0.06      0.10        36\n            Melanie Fiona       0.90      0.98      0.94       169\n                Cory Gunz       1.00      0.45      0.62        22\n                  #mugler       0.00      0.00      0.00         5\n         Governor General       1.00      0.59      0.74        34\n                    Omark       0.00      0.00      0.00         3\n             #ilovemyfans       1.00      0.73      0.84        26\n               Adonis DNA       0.93      0.99      0.96       230\n             Xander Soren       0.96      0.83      0.89        29\n            Rachel Zevita       1.00      0.44      0.62        36\n             Tina Stewart       0.00      0.00      0.00        15\n                Get Gully       1.00      0.58      0.74        84\n              Marlon King       1.00      0.09      0.16        23\n             Raven Symone       0.79      1.00      0.88       227\n           #whenyourblack       0.00      0.00      0.00        19\n   Twilight\\/Harry Potter       1.00      0.99      0.99        91\n                Bill Ford       0.81      0.99      0.89       268\n            Lauren Turner       0.94      0.98      0.96       178\n           Roberta Bondar       0.98      0.98      0.98       111\n              Garage Band       0.97      0.92      0.95       146\n           Arctic Monkeys       0.48      0.31      0.38       185\n                 Alek Wek       0.80      0.61      0.69       186\n          Gerald Anderson       0.86      0.87      0.87       216\n            Galliano Said       0.50      0.54      0.52       241\n                      IE6       1.00      1.00      1.00        28\n                      GDC       0.00      0.00      0.00        31\n                   #ipad2       1.00      0.93      0.96        58\n                    Naima       0.00      0.00      0.00         3\n         Late Night Snack       0.00      0.00      0.00         6\n           Cedric Diggory       0.00      0.00      0.00         4\n                 #guttbye       0.96      1.00      0.98       192\n             Raffi Torres       1.00      0.58      0.73        19\n           Scott Forstall       0.97      0.64      0.77        50\n              Hugh Laurie       0.00      0.00      0.00         4\n             José Padilha       1.00      0.92      0.96        91\n                   Wallen       1.00      0.95      0.98        65\n              Andy Carrol       0.00      0.00      0.00        12\n          Martin Atkinson       0.93      0.99      0.96       197\n             Picture Fail       0.57      0.90      0.70       181\n               John Major       0.00      0.00      0.00        67\n                 Virginio       0.95      0.94      0.95       187\n              Hala Madrid       0.88      0.95      0.91       210\n               #teamsheen       0.99      0.90      0.94        79\n             Vargas Llosa       1.00      0.93      0.96       115\n         #cum2fastexcuses       0.95      0.66      0.78        64\n            Little Rascal       0.55      0.50      0.52       118\n          Terrance Howard       0.95      0.99      0.97       205\n           Jennifer Lopez       0.99      0.86      0.92       181\n               Cornelisse       0.70      0.97      0.81       229\n               Pellegrini       0.00      0.00      0.00        41\n               Balenciaga       0.79      0.90      0.84       235\n             Daniel Akaka       0.78      1.00      0.88       213\n               #ohohtirol       0.74      1.00      0.85       251\n      LovatoIsOurSunshine       0.75      0.96      0.84       213\n               Lisa Rinna       1.00      0.99      1.00       127\n      #neversayneveroscar       1.00      0.54      0.70       130\n                      ΖΦΒ       0.72      0.93      0.81       242\n             Juwan Howard       0.97      0.99      0.98       157\n Paula Deen Riding Things       0.58      1.00      0.73       266\n                  Westpac       0.00      0.00      0.00         7\n            Charlie Sheen       0.84      0.90      0.87       173\n                    Odoms       1.00      0.27      0.43        11\n              Will Eisner       0.98      0.97      0.97       125\n               Thia Megia       0.97      1.00      0.99       141\n  Legally Blonde Starring       1.00      0.81      0.90        85\n                    Hendo       1.00      0.99      0.99        99\n               Fast Times       1.00      0.72      0.83        74\n             Ron Sexsmith       0.99      0.95      0.97       153\n         #thataintwinning       1.00      0.60      0.75        58\n                     OLLG       1.00      0.92      0.96        66\n             Tim Halperin       0.00      0.00      0.00         5\n                      TDT       0.99      0.96      0.98       169\n               AnahiOnEMA       0.98      0.95      0.97       128\n             Frank Martin       0.00      0.00      0.00         6\n               Kris Kross       1.00      1.00      1.00        64\n            Universe♥Gaga       0.91      0.37      0.52       112\n                   Marini       0.97      0.69      0.81       150\n              Terry Crews       0.79      1.00      0.88       142\n          Pablo Hernández       0.00      0.00      0.00         4\n           Watching Taken       1.00      0.43      0.60         7\n          Antonio Damasio       0.00      0.00      0.00         4\n\n                 accuracy                           0.85     84431\n                macro avg       0.78      0.66      0.68     84431\n             weighted avg       0.86      0.85      0.84     84431\n\n"
     ]
    }
   ],
   "source": [
    "from sklearn.naive_bayes import MultinomialNB\n",
    "\n",
    "MNB_model = MultinomialNB()\n",
    "MNB_model.fit(X_train, y_train)\n",
    "\n",
    "y_pred = MNB_model.predict(X_test)\n",
    "\n",
    "print(metrics.classification_report(y_test, y_pred, target_names=df_trend['trend_name'].unique()))"
   ]
  },
  {
   "source": [
    "### Cross 10-fold validation"
   ],
   "cell_type": "markdown",
   "metadata": {}
  },
  {
   "cell_type": "code",
   "execution_count": 23,
   "metadata": {},
   "outputs": [
    {
     "output_type": "stream",
     "name": "stdout",
     "text": [
      "0.837088716505825\n"
     ]
    }
   ],
   "source": [
    "accuracies = cross_val_score(MNB_model, tfidf, class_name, scoring='accuracy', cv=cross_validate)\n",
    "\n",
    "for fold_idx, accuracy in enumerate(accuracies):\n",
    "    entries.append((fold_idx, accuracy))\n",
    "\n",
    "cv_df = pd.DataFrame(entries, columns=['fold_idx', 'accuracy'])\n",
    "\n",
    "print(cv_df.accuracy.mean())"
   ]
  },
  {
   "source": [
    "### Linear SVM with loose TF-IDF"
   ],
   "cell_type": "markdown",
   "metadata": {}
  },
  {
   "source": [
    "from sklearn.model_selection import cross_val_score\n",
    "from sklearn.model_selection import train_test_split\n",
    "\n",
    "class_name = df_trend['trend_name'].tolist()\n",
    "\n",
    "X_train, X_test, y_train, y_test, indices_train, indices_test = train_test_split(loose_tfidf, class_name, df_trend.index, test_size=0.25, random_state=0, stratify=class_name)\n",
    "\n",
    "from sklearn.svm import LinearSVC\n",
    "new_svc_model = LinearSVC()\n",
    "\n",
    "new_svc_model.fit(X_train, y_train)\n",
    "\n",
    "y_pred = new_svc_model.predict(X_test)\n",
    "\n",
    "from sklearn import metrics\n",
    "\n",
    "print(metrics.classification_report(y_test, y_pred, target_names=df_trend['trend_name'].unique()))"
   ],
   "cell_type": "code",
   "metadata": {
    "tags": [
     "outputPrepend"
    ]
   },
   "execution_count": 6,
   "outputs": [
    {
     "output_type": "stream",
     "name": "stdout",
     "text": [
      "4      0.69      0.79        42\n                  Bulgari       0.95      0.95      0.95        60\n                  Diabate       0.97      0.90      0.93       206\n                  #tweutr       0.97      0.97      0.97        68\n                  Ashthon       0.97      1.00      0.98        28\n                 Nia Long       1.00      1.00      1.00        33\n            Jurassic Park       1.00      0.98      0.99       180\n            Nike Eyebrows       0.92      0.94      0.93        48\n   #welcometoirelandbiebs       0.95      0.97      0.96       127\n               Eat Bulaga       0.79      0.58      0.67        19\n                Simon Rex       1.00      0.92      0.96        62\n                    Papac       0.98      0.98      0.98       252\n        Two Movie Tickets       0.95      0.98      0.96       213\n                 Hartnell       1.00      0.93      0.97        46\n                   Carice       0.98      1.00      0.99        49\n               #biwinning       0.96      0.96      0.96        67\n                   Agassi       0.96      0.94      0.95       251\n              Evan Bourne       0.90      0.94      0.92        48\n                  Jorgito       0.88      0.89      0.89       151\n                UNC\\/Duke       0.95      0.83      0.89        24\n     Christopher Hitchens       1.00      0.80      0.89         5\n             Pete Sampras       0.98      1.00      0.99       209\n              Diego Alves       0.75      0.81      0.78        99\n              Rick Barnes       1.00      1.00      1.00        31\n          Harrison Barnes       0.98      0.98      0.98       202\n                  Negredo       0.98      0.97      0.98       115\n          Stefano Langone       0.94      0.97      0.95       235\n             Phil Collins       0.92      0.94      0.93       196\n           Sandhy Sondoro       0.99      1.00      0.99       227\n                  Lavínia       0.86      0.86      0.86        63\n                Max Boyce       0.93      0.91      0.92       127\n       Pernilla Andersson       1.00      0.95      0.98        21\n                   Beluga       0.93      0.78      0.85        18\n            Sarah Marquis       1.00      1.00      1.00       173\n             Jersey Floor       0.95      0.95      0.95        40\n      Stone Temple Pilots       1.00      0.97      0.98        31\n       Dear Rolling Stone       0.91      0.99      0.95       101\n                Selah Sue       1.00      0.75      0.86         4\n             Skip Bayless       1.00      1.00      1.00        76\n             ProudOfJonas       0.96      0.92      0.94        48\n     WeLoveMichaelJackson       0.67      0.55      0.60        29\n            Wadah Khanfar       1.00      0.88      0.93         8\n          Franklin Street       1.00      0.67      0.80        12\n             Mountain Dew       0.95      0.91      0.93       100\n             Yusuf Pathan       1.00      0.85      0.92        13\n                 Dateline       0.95      0.97      0.96       174\n               Gary Busey       0.96      0.93      0.95        28\n          Angelique Boyer       0.98      0.99      0.98       236\n              Taylor Hall       0.97      0.97      0.97        93\n              Zach Porter       1.00      1.00      1.00        14\n              Battlefield       0.86      0.86      0.86         7\n           Two & Half Men       0.98      0.99      0.99       187\n                  Balmain       0.96      0.95      0.95       110\n                     MOTU       1.00      0.94      0.97        36\n          Captain Haddock       0.91      0.91      0.91        35\n                   Jovany       0.70      1.00      0.82         7\n          EXPERIMENTE941B       0.99      0.99      0.99        88\n           Alessio Sakara       1.00      1.00      1.00        30\n                    Isner       0.99      0.96      0.97       216\n                  Fashola       0.95      0.95      0.95        61\n             Kemba Walker       0.91      0.84      0.87       217\n                    DeRay       0.99      1.00      0.99       244\n                     CHUM       0.96      1.00      0.98        22\n            Still Winning       0.98      1.00      0.99        60\n          Rob Niedermayer       0.96      0.91      0.93       148\n         Kendall Marshall       0.96      0.99      0.98       189\n                   Sziget       0.80      1.00      0.89         4\n               Tony Greig       0.95      0.88      0.91        42\n            Nelly Furtado       0.83      1.00      0.91         5\n              Smart Cover       0.97      1.00      0.98        31\n                Sarah Kay       0.88      0.92      0.90       108\n                 Gretchen       0.96      0.98      0.97       154\n        After School Boys       0.79      0.81      0.80        95\n             #sorryjustin       0.93      0.98      0.96       175\n            #breakuptexts       0.98      0.99      0.98       124\n       Dorito Bags Though       1.00      1.00      1.00        64\n                 Fandango       0.98      0.89      0.93       142\n      Ban Bathroom Models       0.96      0.96      0.96        79\n                 Dollaway       0.96      0.93      0.95       150\n              Jody Bernal       1.00      0.98      0.99       255\n        Marlon Stockinger       0.96      0.99      0.97        69\n                    Bunji       0.96      0.93      0.94       200\n               Papa Wemba       0.99      0.96      0.97       137\n          Harvey Fineberg       1.00      0.86      0.93        22\n          Karen Rodriguez       0.97      0.93      0.95        74\n         Nicholas Parsons       0.85      0.87      0.86       167\n                   Tokoto       0.97      0.94      0.95       179\n            Lakers\\/Spurs       0.97      0.95      0.96       200\n           Melvin Manhoef       1.00      1.00      1.00         4\n          Cherries Though       0.76      0.76      0.76        34\n               Pat Knight       0.94      1.00      0.97        15\n                    McRib       0.98      0.89      0.93        45\n           Football Focus       0.97      0.97      0.97        30\n                    Bercy       0.85      0.92      0.88       113\n            Fabio Aurelio       1.00      1.00      1.00         8\n           Little Rascals       0.93      0.93      0.93       174\n                 Masvidal       1.00      1.00      1.00       154\n                Spoelstra       0.87      0.76      0.81        17\n           Reinaldo Armas       0.94      0.98      0.96       117\n                     Hawn       0.92      0.98      0.95       107\n                 #wonders       0.98      0.91      0.94        46\n              Mike Miller       0.95      0.86      0.90       146\n                Joe Swash       1.00      1.00      1.00         9\n             Yuvraj Singh       1.00      0.80      0.89        20\n               Larry Lamb       1.00      1.00      1.00         3\n                 #factorx       0.94      0.97      0.96       210\n         Nitro JavaScript       0.95      1.00      0.97        38\n             Judas Priest       1.00      1.00      1.00        16\n              Arjun Singh       0.96      1.00      0.98        67\n             Rhod Gilbert       0.83      0.76      0.79        58\n                      SNL       0.92      0.97      0.94        68\n              Bob Diamond       0.39      0.29      0.33        38\n                 Interpol       1.00      0.97      0.98        29\n          Steven Fletcher       0.93      1.00      0.96        27\n            Prince Andrew       0.93      0.96      0.94       147\n              Mark Halsey       0.89      0.87      0.88        39\n             Coach Knight       1.00      1.00      1.00        18\n                McLobster       0.99      0.99      0.99       214\n        Racial Draft Pick       0.63      0.56      0.59        72\n           Danny Castillo       0.98      1.00      0.99       227\n                      Wyk       0.98      0.98      0.98       171\n                     Fach       0.93      0.93      0.93        15\n                     TAKS       0.98      0.95      0.97        65\n             Michael Ealy       0.97      0.99      0.98       124\n                  Anfield       0.83      0.62      0.71         8\n    Lacefront Malfunction       0.80      1.00      0.89         4\n                      KAΨ       0.84      0.84      0.84        32\n                   Ambien       0.96      0.71      0.81        31\n                #losbulls       0.85      0.95      0.90        86\n            Severus Snape       0.92      0.93      0.93       171\n                Ras Lanuf       0.99      1.00      1.00       148\n             Superman III       0.95      0.91      0.93        58\n           David Walliams       0.55      0.53      0.54       132\n        Janet Albrechtsen       1.00      1.00      1.00        38\n                  Chamakh       1.00      1.00      1.00        75\n       Riccki-Lee Coulter       1.00      1.00      1.00        11\n                  Pantene       0.71      0.83      0.77         6\n                    RTing       1.00      0.80      0.89         5\n                   Glenda       0.95      1.00      0.97        39\n                 Jack Dee       0.88      0.96      0.92        23\n                 Sal Khan       0.83      0.83      0.83         6\n   Paranormal Blacktivity       0.84      0.91      0.88       128\n                Gift Raps       0.96      1.00      0.98        45\n             Essam Sharaf       0.94      0.97      0.96       192\n              Troy Murphy       0.96      0.99      0.97       274\n        Extreme Couponing       1.00      0.87      0.93        38\n                     FCAT       0.92      0.95      0.93       168\n                  Shaunie       1.00      0.93      0.96        14\n           Chelsea Lately       1.00      0.97      0.99       213\n            WeAdoreLovato       0.78      0.88      0.83        78\n  #iftwitterwashighschool       0.93      0.91      0.92        47\n                     HDMI       1.00      0.97      0.98        61\n             Kobalt Tools       1.00      1.00      1.00        20\n             Murray State       0.91      0.94      0.93        34\n                Pat Riley       0.99      0.99      0.99       111\n          Adele Unplugged       1.00      1.00      1.00        28\n              Andy Rooney       0.62      0.56      0.59        81\n          Snuggle Sundays       1.00      0.80      0.89         5\n                     Lent       0.59      0.68      0.63        68\n              White Widow       0.95      0.90      0.92        88\n             Grameen Bank       0.99      0.99      0.99       216\n       Corinne Bailey Rae       0.98      0.93      0.95       227\n               Sara Varga       1.00      0.67      0.80         3\n                   #ajaaz       0.90      0.90      0.90        70\n                 Puncheon       0.99      1.00      0.99       172\n            Piyush Chawla       1.00      0.97      0.99        38\n           Erik Spoelstra       0.98      1.00      0.99       125\n            Liam Halligan       1.00      0.95      0.97        20\n           Thiago Tavares       0.72      0.85      0.78        34\n                  Stefano       0.90      0.87      0.88        30\n            #isbetterthan       0.94      0.90      0.92        93\n              Nancy Grace       1.00      0.98      0.99       209\n              Wayne Brady       0.99      0.99      0.99       231\n             Jane Russell       0.75      0.76      0.75       233\n                 Mestalla       1.00      0.98      0.99        60\n                  Malinga       0.98      0.95      0.96       168\n          Authentic Gucci       0.97      0.95      0.96       214\n              #vasaloppet       0.88      0.92      0.90       144\n               Rabbit Hae       0.95      0.95      0.95       128\n             Jose Canseco       0.99      1.00      1.00       105\n                    Massú       0.98      0.96      0.97       134\n         Haider Ackermann       1.00      1.00      1.00        97\n              Seth Meyers       0.99      0.99      0.99       233\n                  Chrisye       0.89      0.76      0.82        66\n                     UKIP       0.54      0.72      0.62        18\n                  McSushi       0.74      0.69      0.71       217\n             Marina Silva       0.96      0.96      0.96       113\n                Call PETA       0.97      1.00      0.99        76\n                     TTWE       0.88      0.87      0.87       236\n                   Bandra       0.82      0.74      0.78        31\n           Angela Bassett       0.78      0.79      0.79        82\n               Argumental       1.00      0.82      0.90        11\n               Blue Shirt       1.00      0.97      0.98       229\n             Sexting Fail       0.43      0.38      0.40       110\n           Robert Winston       0.99      1.00      0.99       247\n            Warlock Latin       1.00      0.33      0.50         3\n              Kany Garcia       0.98      0.94      0.96        69\n                 Cantwell       0.97      0.93      0.95        69\n                  Roddick       0.96      0.98      0.97       243\n           Mario Chalmers       0.97      0.97      0.97        37\n               Kim Duthie       1.00      1.00      1.00         3\n            Mike Huckabee       0.95      0.97      0.96       168\n              ASDA DATING       1.00      0.60      0.75        10\n              Vicki Keith       1.00      1.00      1.00       214\n             #nickilyrics       0.95      0.91      0.93        44\n              Action Item       0.95      0.95      0.95       208\n        Seriously Atlanta       1.00      0.99      0.99        81\n           Lord Voldemort       0.87      0.93      0.90        43\n           Blankety Blank       0.99      0.98      0.98       240\n              Gus Johnson       0.71      0.71      0.71         7\n          Serena Williams       0.99      0.99      0.99       166\n        #5bestsoundtracks       0.98      0.98      0.98       108\n                  Lil Jon       0.67      0.62      0.65        16\n             Piers Morgan       0.81      0.79      0.80       225\n           Kathryn Schulz       0.80      0.78      0.79       203\n      Any Musiq Soulchild       0.26      0.17      0.20        36\n            Melanie Fiona       0.95      0.92      0.93       169\n                Cory Gunz       1.00      0.95      0.98        22\n                  #mugler       0.67      0.80      0.73         5\n         Governor General       1.00      0.94      0.97        34\n                    Omark       1.00      1.00      1.00         3\n             #ilovemyfans       0.92      0.92      0.92        26\n               Adonis DNA       0.98      0.99      0.98       230\n             Xander Soren       0.97      1.00      0.98        29\n            Rachel Zevita       0.88      0.97      0.92        36\n             Tina Stewart       1.00      0.87      0.93        15\n                Get Gully       0.95      0.93      0.94        84\n              Marlon King       1.00      0.91      0.95        23\n             Raven Symone       0.97      1.00      0.99       227\n           #whenyourblack       0.67      0.42      0.52        19\n   Twilight\\/Harry Potter       0.99      1.00      0.99        91\n                Bill Ford       1.00      0.99      0.99       268\n            Lauren Turner       0.96      0.98      0.97       178\n           Roberta Bondar       0.96      0.97      0.96       111\n              Garage Band       0.93      0.98      0.96       146\n           Arctic Monkeys       0.54      0.41      0.46       185\n                 Alek Wek       0.68      0.68      0.68       186\n          Gerald Anderson       0.92      0.91      0.91       216\n            Galliano Said       0.83      0.80      0.82       241\n                      IE6       0.97      1.00      0.98        28\n                      GDC       0.88      0.90      0.89        31\n                   #ipad2       0.98      0.98      0.98        58\n                    Naima       0.75      1.00      0.86         3\n         Late Night Snack       1.00      1.00      1.00         6\n           Cedric Diggory       0.80      1.00      0.89         4\n                 #guttbye       0.98      1.00      0.99       192\n             Raffi Torres       1.00      0.95      0.97        19\n           Scott Forstall       0.98      0.88      0.93        50\n              Hugh Laurie       1.00      0.50      0.67         4\n             José Padilha       0.96      1.00      0.98        91\n                   Wallen       1.00      1.00      1.00        65\n              Andy Carrol       1.00      0.83      0.91        12\n          Martin Atkinson       1.00      1.00      1.00       197\n             Picture Fail       0.54      0.81      0.65       181\n               John Major       0.72      0.46      0.56        67\n                 Virginio       0.95      0.97      0.96       187\n              Hala Madrid       0.93      0.93      0.93       210\n               #teamsheen       0.99      0.96      0.97        79\n             Vargas Llosa       0.98      0.98      0.98       115\n         #cum2fastexcuses       0.98      0.97      0.98        64\n            Little Rascal       0.52      0.64      0.58       118\n          Terrance Howard       0.95      0.93      0.94       205\n           Jennifer Lopez       0.95      0.92      0.94       181\n               Cornelisse       0.95      0.98      0.97       229\n               Pellegrini       0.97      0.83      0.89        41\n               Balenciaga       0.93      0.92      0.93       235\n             Daniel Akaka       0.97      0.99      0.98       213\n               #ohohtirol       1.00      0.99      0.99       251\n      LovatoIsOurSunshine       0.94      0.94      0.94       213\n               Lisa Rinna       0.95      0.97      0.96       127\n      #neversayneveroscar       0.94      0.88      0.91       130\n                      ΖΦΒ       0.88      0.89      0.89       242\n             Juwan Howard       0.99      1.00      0.99       157\n Paula Deen Riding Things       0.73      0.93      0.82       266\n                  Westpac       1.00      1.00      1.00         7\n            Charlie Sheen       0.95      0.87      0.91       173\n                    Odoms       1.00      1.00      1.00        11\n              Will Eisner       0.99      0.99      0.99       125\n               Thia Megia       1.00      1.00      1.00       141\n  Legally Blonde Starring       0.99      0.98      0.98        85\n                    Hendo       1.00      0.99      0.99        99\n               Fast Times       0.99      0.97      0.98        74\n             Ron Sexsmith       0.99      0.99      0.99       153\n         #thataintwinning       0.93      0.90      0.91        58\n                     OLLG       0.96      0.98      0.97        66\n             Tim Halperin       1.00      0.60      0.75         5\n                      TDT       0.97      0.96      0.96       169\n               AnahiOnEMA       0.99      0.97      0.98       128\n             Frank Martin       1.00      0.67      0.80         6\n               Kris Kross       1.00      1.00      1.00        64\n            Universe♥Gaga       0.87      0.86      0.86       112\n                   Marini       0.88      0.90      0.89       150\n              Terry Crews       0.87      0.95      0.91       142\n          Pablo Hernández       0.60      0.75      0.67         4\n           Watching Taken       1.00      0.86      0.92         7\n          Antonio Damasio       0.50      0.50      0.50         4\n\n                 accuracy                           0.92     84431\n                macro avg       0.92      0.90      0.91     84431\n             weighted avg       0.93      0.92      0.92     84431\n\n"
     ]
    }
   ]
  },
  {
   "source": [
    "### Multinomial Naive Bayes with loose TF-IDF"
   ],
   "cell_type": "markdown",
   "metadata": {}
  },
  {
   "cell_type": "code",
   "execution_count": 7,
   "metadata": {
    "tags": [
     "outputPrepend"
    ]
   },
   "outputs": [
    {
     "output_type": "stream",
     "name": "stdout",
     "text": [
      "0      0.12      0.21        42\n                  Bulgari       1.00      0.52      0.68        60\n                  Diabate       0.79      0.94      0.86       206\n                  #tweutr       0.96      0.78      0.86        68\n                  Ashthon       1.00      0.25      0.40        28\n                 Nia Long       1.00      0.61      0.75        33\n            Jurassic Park       0.89      0.97      0.93       180\n            Nike Eyebrows       1.00      0.15      0.25        48\n   #welcometoirelandbiebs       0.98      0.84      0.91       127\n               Eat Bulaga       0.00      0.00      0.00        19\n                Simon Rex       1.00      0.76      0.86        62\n                    Papac       0.68      0.98      0.80       252\n        Two Movie Tickets       0.83      0.98      0.89       213\n                 Hartnell       1.00      0.09      0.16        46\n                   Carice       1.00      0.69      0.82        49\n               #biwinning       0.95      0.31      0.47        67\n                   Agassi       0.66      0.87      0.75       251\n              Evan Bourne       1.00      0.38      0.55        48\n                  Jorgito       0.94      0.68      0.78       151\n                UNC\\/Duke       1.00      0.04      0.08        24\n     Christopher Hitchens       0.00      0.00      0.00         5\n             Pete Sampras       0.98      0.99      0.98       209\n              Diego Alves       0.70      0.86      0.77        99\n              Rick Barnes       1.00      0.16      0.28        31\n          Harrison Barnes       0.82      1.00      0.90       202\n                  Negredo       1.00      0.76      0.86       115\n          Stefano Langone       0.72      0.98      0.83       235\n             Phil Collins       0.93      0.87      0.90       196\n           Sandhy Sondoro       0.72      0.99      0.83       227\n                  Lavínia       1.00      0.02      0.03        63\n                Max Boyce       1.00      0.37      0.54       127\n       Pernilla Andersson       1.00      0.10      0.17        21\n                   Beluga       0.00      0.00      0.00        18\n            Sarah Marquis       0.99      0.98      0.99       173\n             Jersey Floor       1.00      0.25      0.40        40\n      Stone Temple Pilots       1.00      0.23      0.37        31\n       Dear Rolling Stone       0.95      0.79      0.86       101\n                Selah Sue       0.00      0.00      0.00         4\n             Skip Bayless       1.00      0.96      0.98        76\n             ProudOfJonas       1.00      0.48      0.65        48\n     WeLoveMichaelJackson       0.00      0.00      0.00        29\n            Wadah Khanfar       0.00      0.00      0.00         8\n          Franklin Street       0.00      0.00      0.00        12\n             Mountain Dew       1.00      0.61      0.76       100\n             Yusuf Pathan       0.00      0.00      0.00        13\n                 Dateline       0.94      0.95      0.95       174\n               Gary Busey       1.00      0.39      0.56        28\n          Angelique Boyer       0.79      0.98      0.87       236\n              Taylor Hall       1.00      0.48      0.65        93\n              Zach Porter       1.00      0.57      0.73        14\n              Battlefield       0.00      0.00      0.00         7\n           Two & Half Men       0.98      0.98      0.98       187\n                  Balmain       1.00      0.55      0.71       110\n                     MOTU       1.00      0.56      0.71        36\n          Captain Haddock       1.00      0.14      0.25        35\n                   Jovany       0.00      0.00      0.00         7\n          EXPERIMENTE941B       1.00      0.55      0.71        88\n           Alessio Sakara       1.00      0.93      0.97        30\n                    Isner       0.85      0.92      0.88       216\n                  Fashola       1.00      0.84      0.91        61\n             Kemba Walker       0.59      0.83      0.69       217\n                    DeRay       0.72      0.99      0.84       244\n                     CHUM       1.00      0.14      0.24        22\n            Still Winning       1.00      1.00      1.00        60\n          Rob Niedermayer       0.96      0.66      0.78       148\n         Kendall Marshall       0.90      0.98      0.94       189\n                   Sziget       0.00      0.00      0.00         4\n               Tony Greig       0.96      0.57      0.72        42\n            Nelly Furtado       0.00      0.00      0.00         5\n              Smart Cover       1.00      0.13      0.23        31\n                Sarah Kay       0.76      0.94      0.84       108\n                 Gretchen       0.98      0.94      0.96       154\n        After School Boys       0.92      0.12      0.21        95\n             #sorryjustin       0.77      0.89      0.83       175\n            #breakuptexts       0.98      0.92      0.95       124\n       Dorito Bags Though       1.00      0.52      0.68        64\n                 Fandango       1.00      0.51      0.67       142\n      Ban Bathroom Models       1.00      0.75      0.86        79\n                 Dollaway       0.99      0.76      0.86       150\n              Jody Bernal       0.73      0.98      0.84       255\n        Marlon Stockinger       1.00      0.77      0.87        69\n                    Bunji       0.77      0.95      0.85       200\n               Papa Wemba       0.97      0.81      0.88       137\n          Harvey Fineberg       1.00      0.14      0.24        22\n          Karen Rodriguez       0.98      0.78      0.87        74\n         Nicholas Parsons       0.68      0.86      0.76       167\n                   Tokoto       0.83      0.83      0.83       179\n            Lakers\\/Spurs       0.77      0.91      0.83       200\n           Melvin Manhoef       0.00      0.00      0.00         4\n          Cherries Though       0.00      0.00      0.00        34\n               Pat Knight       1.00      0.60      0.75        15\n                    McRib       1.00      0.40      0.57        45\n           Football Focus       1.00      0.17      0.29        30\n                    Bercy       0.94      0.58      0.72       113\n            Fabio Aurelio       0.00      0.00      0.00         8\n           Little Rascals       0.99      0.75      0.85       174\n                 Masvidal       1.00      1.00      1.00       154\n                Spoelstra       0.00      0.00      0.00        17\n           Reinaldo Armas       0.99      0.76      0.86       117\n                     Hawn       0.94      0.56      0.70       107\n                 #wonders       1.00      0.37      0.54        46\n              Mike Miller       0.94      0.81      0.87       146\n                Joe Swash       1.00      1.00      1.00         9\n             Yuvraj Singh       0.00      0.00      0.00        20\n               Larry Lamb       0.00      0.00      0.00         3\n                 #factorx       0.84      0.93      0.88       210\n         Nitro JavaScript       1.00      0.18      0.31        38\n             Judas Priest       1.00      1.00      1.00        16\n              Arjun Singh       1.00      0.52      0.69        67\n             Rhod Gilbert       1.00      0.07      0.13        58\n                      SNL       1.00      0.50      0.67        68\n              Bob Diamond       0.00      0.00      0.00        38\n                 Interpol       1.00      0.59      0.74        29\n          Steven Fletcher       1.00      0.26      0.41        27\n            Prince Andrew       0.96      0.93      0.94       147\n              Mark Halsey       1.00      0.05      0.10        39\n             Coach Knight       0.00      0.00      0.00        18\n                McLobster       0.89      0.98      0.93       214\n        Racial Draft Pick       0.54      0.68      0.60        72\n           Danny Castillo       0.69      1.00      0.81       227\n                      Wyk       0.96      0.96      0.96       171\n                     Fach       0.00      0.00      0.00        15\n                     TAKS       1.00      0.32      0.49        65\n             Michael Ealy       0.98      0.86      0.92       124\n                  Anfield       0.00      0.00      0.00         8\n    Lacefront Malfunction       0.00      0.00      0.00         4\n                      KAΨ       1.00      0.09      0.17        32\n                   Ambien       0.00      0.00      0.00        31\n                #losbulls       0.98      0.56      0.71        86\n            Severus Snape       0.81      0.80      0.80       171\n                Ras Lanuf       0.97      0.99      0.98       148\n             Superman III       0.75      0.05      0.10        58\n           David Walliams       0.54      0.48      0.51       132\n        Janet Albrechtsen       1.00      0.66      0.79        38\n                  Chamakh       1.00      0.73      0.85        75\n       Riccki-Lee Coulter       1.00      0.18      0.31        11\n                  Pantene       0.00      0.00      0.00         6\n                    RTing       0.00      0.00      0.00         5\n                   Glenda       1.00      0.54      0.70        39\n                 Jack Dee       1.00      0.22      0.36        23\n                 Sal Khan       0.00      0.00      0.00         6\n   Paranormal Blacktivity       0.81      0.85      0.83       128\n                Gift Raps       1.00      0.24      0.39        45\n             Essam Sharaf       0.85      0.98      0.91       192\n              Troy Murphy       0.59      0.99      0.74       274\n        Extreme Couponing       1.00      0.50      0.67        38\n                     FCAT       0.82      0.98      0.89       168\n                  Shaunie       0.00      0.00      0.00        14\n           Chelsea Lately       0.98      0.98      0.98       213\n            WeAdoreLovato       0.80      0.76      0.78        78\n  #iftwitterwashighschool       1.00      0.62      0.76        47\n                     HDMI       0.98      0.79      0.87        61\n             Kobalt Tools       1.00      0.95      0.97        20\n             Murray State       1.00      0.24      0.38        34\n                Pat Riley       0.99      0.87      0.93       111\n          Adele Unplugged       0.00      0.00      0.00        28\n              Andy Rooney       1.00      0.25      0.40        81\n          Snuggle Sundays       0.00      0.00      0.00         5\n                     Lent       0.59      0.71      0.64        68\n              White Widow       0.93      0.16      0.27        88\n             Grameen Bank       0.82      0.99      0.90       216\n       Corinne Bailey Rae       0.61      0.95      0.75       227\n               Sara Varga       0.00      0.00      0.00         3\n                   #ajaaz       0.73      0.16      0.26        70\n                 Puncheon       0.98      0.96      0.97       172\n            Piyush Chawla       1.00      0.13      0.23        38\n           Erik Spoelstra       1.00      0.84      0.91       125\n            Liam Halligan       0.00      0.00      0.00        20\n           Thiago Tavares       1.00      0.03      0.06        34\n                  Stefano       1.00      0.03      0.06        30\n            #isbetterthan       0.93      0.85      0.89        93\n              Nancy Grace       0.89      0.97      0.93       209\n              Wayne Brady       0.71      0.99      0.83       231\n             Jane Russell       0.74      0.62      0.67       233\n                 Mestalla       1.00      0.60      0.75        60\n                  Malinga       0.97      0.93      0.95       168\n          Authentic Gucci       0.73      0.90      0.80       214\n              #vasaloppet       0.81      0.86      0.84       144\n               Rabbit Hae       0.98      0.84      0.91       128\n             Jose Canseco       1.00      0.92      0.96       105\n                    Massú       0.98      0.84      0.90       134\n         Haider Ackermann       1.00      0.97      0.98        97\n              Seth Meyers       0.74      0.99      0.85       233\n                  Chrisye       1.00      0.44      0.61        66\n                     UKIP       0.38      0.17      0.23        18\n                  McSushi       0.49      0.88      0.63       217\n             Marina Silva       0.99      0.88      0.93       113\n                Call PETA       1.00      0.74      0.85        76\n                     TTWE       0.60      0.89      0.72       236\n                   Bandra       0.00      0.00      0.00        31\n           Angela Bassett       0.82      0.51      0.63        82\n               Argumental       0.00      0.00      0.00        11\n               Blue Shirt       0.68      0.97      0.80       229\n             Sexting Fail       0.43      0.60      0.50       110\n           Robert Winston       0.85      1.00      0.92       247\n            Warlock Latin       0.00      0.00      0.00         3\n              Kany Garcia       0.90      0.65      0.76        69\n                 Cantwell       1.00      0.48      0.65        69\n                  Roddick       0.87      0.98      0.92       243\n           Mario Chalmers       1.00      0.59      0.75        37\n               Kim Duthie       0.00      0.00      0.00         3\n            Mike Huckabee       0.99      0.88      0.93       168\n              ASDA DATING       0.00      0.00      0.00        10\n              Vicki Keith       0.64      1.00      0.78       214\n             #nickilyrics       1.00      0.11      0.20        44\n              Action Item       0.68      0.91      0.78       208\n        Seriously Atlanta       1.00      0.96      0.98        81\n           Lord Voldemort       1.00      0.23      0.38        43\n           Blankety Blank       0.73      0.98      0.84       240\n              Gus Johnson       0.00      0.00      0.00         7\n          Serena Williams       0.99      0.98      0.98       166\n        #5bestsoundtracks       0.96      0.90      0.93       108\n                  Lil Jon       1.00      0.06      0.12        16\n             Piers Morgan       0.43      0.83      0.56       225\n           Kathryn Schulz       0.52      0.74      0.61       203\n      Any Musiq Soulchild       0.00      0.00      0.00        36\n            Melanie Fiona       0.84      0.88      0.86       169\n                Cory Gunz       1.00      0.05      0.09        22\n                  #mugler       0.00      0.00      0.00         5\n         Governor General       1.00      0.53      0.69        34\n                    Omark       0.00      0.00      0.00         3\n             #ilovemyfans       1.00      0.38      0.56        26\n               Adonis DNA       0.88      0.96      0.92       230\n             Xander Soren       0.95      0.62      0.75        29\n            Rachel Zevita       1.00      0.31      0.47        36\n             Tina Stewart       0.00      0.00      0.00        15\n                Get Gully       1.00      0.37      0.54        84\n              Marlon King       1.00      0.04      0.08        23\n             Raven Symone       0.71      1.00      0.83       227\n           #whenyourblack       0.00      0.00      0.00        19\n   Twilight\\/Harry Potter       0.98      0.92      0.95        91\n                Bill Ford       0.65      0.98      0.78       268\n            Lauren Turner       0.94      0.98      0.96       178\n           Roberta Bondar       1.00      0.94      0.97       111\n              Garage Band       0.95      0.79      0.86       146\n           Arctic Monkeys       0.49      0.36      0.41       185\n                 Alek Wek       0.72      0.68      0.70       186\n          Gerald Anderson       0.87      0.77      0.82       216\n            Galliano Said       0.72      0.74      0.73       241\n                      IE6       1.00      0.96      0.98        28\n                      GDC       1.00      0.06      0.12        31\n                   #ipad2       1.00      0.62      0.77        58\n                    Naima       0.00      0.00      0.00         3\n         Late Night Snack       0.00      0.00      0.00         6\n           Cedric Diggory       0.00      0.00      0.00         4\n                 #guttbye       0.91      0.99      0.95       192\n             Raffi Torres       1.00      0.11      0.19        19\n           Scott Forstall       0.95      0.38      0.54        50\n              Hugh Laurie       0.00      0.00      0.00         4\n             José Padilha       0.99      0.85      0.91        91\n                   Wallen       1.00      0.85      0.92        65\n              Andy Carrol       0.00      0.00      0.00        12\n          Martin Atkinson       0.90      0.98      0.94       197\n             Picture Fail       0.55      0.82      0.66       181\n               John Major       0.00      0.00      0.00        67\n                 Virginio       0.86      0.89      0.87       187\n              Hala Madrid       0.87      0.89      0.88       210\n               #teamsheen       0.98      0.81      0.89        79\n             Vargas Llosa       1.00      0.77      0.87       115\n         #cum2fastexcuses       1.00      0.53      0.69        64\n            Little Rascal       0.45      0.46      0.45       118\n          Terrance Howard       0.88      0.90      0.89       205\n           Jennifer Lopez       0.97      0.74      0.84       181\n               Cornelisse       0.65      0.94      0.77       229\n               Pellegrini       0.00      0.00      0.00        41\n               Balenciaga       0.73      0.91      0.81       235\n             Daniel Akaka       0.76      0.98      0.85       213\n               #ohohtirol       0.59      0.99      0.74       251\n      LovatoIsOurSunshine       0.76      0.91      0.83       213\n               Lisa Rinna       1.00      0.84      0.91       127\n      #neversayneveroscar       1.00      0.55      0.71       130\n                      ΖΦΒ       0.63      0.91      0.74       242\n             Juwan Howard       0.96      0.99      0.97       157\n Paula Deen Riding Things       0.47      0.98      0.64       266\n                  Westpac       0.00      0.00      0.00         7\n            Charlie Sheen       0.84      0.88      0.86       173\n                    Odoms       1.00      0.18      0.31        11\n              Will Eisner       1.00      0.89      0.94       125\n               Thia Megia       0.95      1.00      0.98       141\n  Legally Blonde Starring       1.00      0.53      0.69        85\n                    Hendo       1.00      0.85      0.92        99\n               Fast Times       1.00      0.66      0.80        74\n             Ron Sexsmith       0.94      0.93      0.93       153\n         #thataintwinning       0.96      0.47      0.63        58\n                     OLLG       1.00      0.61      0.75        66\n             Tim Halperin       0.00      0.00      0.00         5\n                      TDT       0.98      0.88      0.92       169\n               AnahiOnEMA       0.99      0.73      0.84       128\n             Frank Martin       0.00      0.00      0.00         6\n               Kris Kross       0.98      0.98      0.98        64\n            Universe♥Gaga       0.98      0.41      0.58       112\n                   Marini       0.95      0.51      0.66       150\n              Terry Crews       0.79      0.99      0.88       142\n          Pablo Hernández       0.00      0.00      0.00         4\n           Watching Taken       1.00      0.43      0.60         7\n          Antonio Damasio       0.00      0.00      0.00         4\n\n                 accuracy                           0.79     84431\n                macro avg       0.75      0.57      0.60     84431\n             weighted avg       0.82      0.79      0.77     84431\n\n"
     ]
    }
   ],
   "source": [
    "from sklearn.naive_bayes import MultinomialNB\n",
    "\n",
    "new_MNB_model = MultinomialNB()\n",
    "new_MNB_model.fit(X_train, y_train)\n",
    "\n",
    "y_pred = new_MNB_model.predict(X_test)\n",
    "\n",
    "print(metrics.classification_report(y_test, y_pred, target_names=df_trend['trend_name'].unique()))"
   ]
  }
 ]
}