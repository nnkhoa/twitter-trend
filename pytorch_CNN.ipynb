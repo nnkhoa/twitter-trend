{
 "metadata": {
  "language_info": {
   "codemirror_mode": {
    "name": "ipython",
    "version": 3
   },
   "file_extension": ".py",
   "mimetype": "text/x-python",
   "name": "python",
   "nbconvert_exporter": "python",
   "pygments_lexer": "ipython3",
   "version": "3.8.5-final"
  },
  "orig_nbformat": 2,
  "kernelspec": {
   "name": "python3",
   "display_name": "Python 3"
  }
 },
 "nbformat": 4,
 "nbformat_minor": 2,
 "cells": [
  {
   "cell_type": "code",
   "execution_count": 1,
   "metadata": {},
   "outputs": [],
   "source": [
    "import torch\n",
    "import torchtext\n",
    "from torchtext.datasets import text_classification\n",
    "\n",
    "import pandas as pd\n",
    "from nltk.tokenize import word_tokenize\n",
    "\n",
    "import os\n",
    "\n",
    "NGRAMS = 1\n",
    "BATCH_SIZE = 16\n",
    "PRETRAINED = True\n",
    "WORD2VEC_MODEL = True\n",
    "\n",
    "device = torch.device(\"cuda\" if torch.cuda.is_available() else \"cpu\")\n"
   ]
  },
  {
   "source": [
    "### Load Data"
   ],
   "cell_type": "markdown",
   "metadata": {}
  },
  {
   "cell_type": "code",
   "execution_count": 2,
   "metadata": {},
   "outputs": [
    {
     "output_type": "stream",
     "name": "stdout",
     "text": [
      "{'ongoing-event': 1, 'meme': 2, 'news': 3, 'commemorative': 4}\n"
     ]
    }
   ],
   "source": [
    "def preprocess_text(text):\n",
    "    return word_tokenize(str(text.replace('\\n', ' ').replace('\\t', ' ').encode().strip()))\n",
    "\n",
    "df_dataset = pd.read_json('dataset_full.json')\n",
    "\n",
    "df = df_dataset[['type', 'text']]\n",
    "\n",
    "df['text'] = df['text'].apply(preprocess_text)\n",
    "\n",
    "ltoi = {l: i+1 for i,l in enumerate(df['type'].unique())}\n",
    "print(ltoi)\n",
    "df['type'] = df['type'].apply(lambda x: ltoi[x])"
   ]
  },
  {
   "source": [
    "### Word2Vec Embedding"
   ],
   "cell_type": "markdown",
   "metadata": {}
  },
  {
   "cell_type": "code",
   "execution_count": 3,
   "metadata": {},
   "outputs": [],
   "source": [
    "import gensim\n",
    "from gensim.models import Word2Vec\n",
    "\n",
    "if PRETRAINED and WORD2VEC_MODEL:\n",
    "    model_w2v = gensim.models.KeyedVectors.load_word2vec_format('GoogleNews-vectors-negative300.bin.gz', binary=True)\n",
    "    weights = torch.FloatTensor(model_w2v.vectors)\n",
    "elif not PRETRAINED and WORD2VEC_MODEL:\n",
    "    print('Manual Train')\n",
    "    tweets = df['text'].to_list()\n",
    "    model = Word2Vec(tweets,\n",
    "                        min_count=2,\n",
    "                        window=5,\n",
    "                        size=300,\n",
    "                        sample=6e-5,\n",
    "                        alpha=0.03,\n",
    "                        min_alpha=0.0007,\n",
    "                        negative=20)\n",
    "    # do training here\n",
    "    model.train(tweets, total_examples=len(tweets), epochs=20)\n",
    "    # model_w2v.init_sims(replace=True)\n",
    "    word_vectors = model.wv\n",
    "    word_vectors.save('vectors.kv')\n",
    "\n",
    "    model_w2v = gensim.models.KeyedVectors.load('vectors.kv')\n",
    "    weights = torch.FloatTensor(model_w2v.vectors)\n"
   ]
  },
  {
   "source": [
    "### Dividing the data set in to training/test set"
   ],
   "cell_type": "markdown",
   "metadata": {}
  },
  {
   "cell_type": "code",
   "execution_count": 4,
   "metadata": {},
   "outputs": [
    {
     "output_type": "stream",
     "name": "stderr",
     "text": [
      "270642lines [00:16, 16908.16lines/s]\n",
      "270642lines [00:29, 9241.26lines/s] \n",
      "67661lines [00:06, 9739.85lines/s]\n"
     ]
    }
   ],
   "source": [
    "from sklearn.model_selection import train_test_split\n",
    "from torchtext.datasets.text_classification import _create_data_from_iterator, _csv_iterator, build_vocab_from_iterator\n",
    "\n",
    "import itertools\n",
    "\n",
    "train_df, test_df = train_test_split(df, test_size=0.2, random_state=1)\n",
    "\n",
    "if not os.path.exists('./.cache'):\n",
    "    os.mkdir('./.cache')\n",
    "\n",
    "train_df.to_csv('./.cache/train.csv', index=False, header=False)\n",
    "test_df.to_csv('./.cache/test.csv', index=False, header=False)\n",
    "\n",
    "include_unknown = False\n",
    "\n",
    "from torchtext.datasets.text_classification import TextClassificationDataset\n",
    "import collections\n",
    "from torchtext.vocab import Vocab\n",
    "\n",
    "vocab = build_vocab_from_iterator(_csv_iterator('./.cache/train.csv', NGRAMS))\n",
    "\n",
    "train_data, train_labels = _create_data_from_iterator(vocab, _csv_iterator('./.cache/train.csv', NGRAMS, yield_cls=True), include_unk=include_unknown)\n",
    "test_data, test_labels = _create_data_from_iterator(vocab, _csv_iterator('./.cache/test.csv', NGRAMS, yield_cls=True), include_unk=include_unknown)\n",
    "\n",
    "train_dataset = TextClassificationDataset(vocab=vocab, data=train_data, labels=train_labels)\n",
    "test_dataset = TextClassificationDataset(vocab=vocab, data=test_data, labels=test_labels)"
   ]
  },
  {
   "cell_type": "code",
   "execution_count": 5,
   "metadata": {},
   "outputs": [],
   "source": [
    "if WORD2VEC_MODEL:\n",
    "    word2index = {token: token_index for token_index, token in enumerate(model_w2v.index2word)}\n",
    "    train_dataset._vocab.set_vectors(word2index, weights.to(device), model_w2v.vector_size)\n",
    "    test_dataset._vocab.set_vectors(word2index, weights.to(device), model_w2v.vector_size)"
   ]
  },
  {
   "source": [
    "### The Model"
   ],
   "cell_type": "markdown",
   "metadata": {}
  },
  {
   "cell_type": "code",
   "execution_count": 6,
   "metadata": {},
   "outputs": [],
   "source": [
    "import torch.nn as nn\n",
    "import torch.nn.functional as F \n",
    "\n",
    "class CNNModel(nn.Module):\n",
    "    def __init__(self, vocab_size, embed_dim, num_class, windows_size, num_filter, model=WORD2VEC_MODEL):\n",
    "        super().__init__()\n",
    "\n",
    "        self.model = WORD2VEC_MODEL\n",
    "        \n",
    "        if self.model:\n",
    "            self.embedding = nn.Embedding.from_pretrained(weights)\n",
    "        else:\n",
    "            self.embedding = nn.Embedding(vocab, embed_dim, sparse=True)\n",
    "            self.init_weights()\n",
    "        \n",
    "        self.convs = nn.ModuleList([nn.Conv2d(1, \n",
    "                                            num_filter, \n",
    "                                            [window, embed_dim]) \n",
    "                                            for window in windows_size])\n",
    "\n",
    "        self.fc = nn.Linear(num_filter * len(windows_size), num_class)\n",
    "\n",
    "    def init_weights(self):\n",
    "        init_range = 0.5\n",
    "        self.embedding.weight.data.uniform_(-init_range, init_range)\n",
    "        self.fc.weight.data.uniform_(-init_range, init_range)\n",
    "        self.fc.bias.data.zero_()\n",
    "\n",
    "    def forward(self, text, offsets):\n",
    "        if self.model:\n",
    "            embedded = self.embedding(text)\n",
    "        else:\n",
    "            embedded = self.embedding(text, offsets)\n",
    "\n",
    "        embedded = torch.unsqueeze(embedded, 1)\n",
    "\n",
    "        x = [F.relu(conv(embedded)).squeeze(3) for conv in self.convs]\n",
    "        \n",
    "        x = [F.max_pool1d(i, i.size(2)) for i in x]\n",
    "        \n",
    "        x = torch.cat(x, 1)\n",
    "        \n",
    "        x = x.view(x.size(0), -1)\n",
    "\n",
    "        return self.fc(x)\n",
    "        \n",
    "        # return F.softmax(logits, dim=1)"
   ]
  },
  {
   "source": [
    "### Initialize Parameters"
   ],
   "cell_type": "markdown",
   "metadata": {}
  },
  {
   "cell_type": "code",
   "execution_count": 7,
   "metadata": {},
   "outputs": [],
   "source": [
    "VOCAB_SIZE = len(train_dataset.get_vocab())\n",
    "EMBED_DIM = 32\n",
    "\n",
    "if WORD2VEC_MODEL:\n",
    "    EMBED_DIM = weights.shape[1]\n",
    "\n",
    "NUM_CLASS = len(train_dataset.get_labels())\n",
    "\n",
    "cnn_model = CNNModel(VOCAB_SIZE, EMBED_DIM, NUM_CLASS, [1,2,3], 5, WORD2VEC_MODEL).to(device)"
   ]
  },
  {
   "source": [
    "### Padding the text to have the same length "
   ],
   "cell_type": "markdown",
   "metadata": {}
  },
  {
   "cell_type": "code",
   "execution_count": 8,
   "metadata": {},
   "outputs": [],
   "source": [
    "def padding_tensor(sequences):\n",
    "    num = len(sequences)\n",
    "    max_len = max([s.size(0) for s in sequences])\n",
    "    out_dim = (num, max_len)\n",
    "    out_tensor = sequences[0].data.new(*out_dim).fill_(0)\n",
    "\n",
    "    for i, tensor in enumerate(sequences):\n",
    "        length = tensor.size(0)\n",
    "        out_tensor[i, :length] = tensor\n",
    "    \n",
    "    return out_tensor"
   ]
  },
  {
   "cell_type": "code",
   "execution_count": 9,
   "metadata": {},
   "outputs": [],
   "source": [
    "def generate_batch(batch, model=WORD2VEC_MODEL):\n",
    "    labels = torch.tensor([entry[0] for entry in batch])\n",
    "    text = [entry[1] for entry in batch]\n",
    "    offsets = [0] + [len(entry) for entry in text]\n",
    "\n",
    "    offsets = torch.tensor(offsets[:-1]).cumsum(dim=0)\n",
    "\n",
    "    if model:\n",
    "        text = padding_tensor(text)\n",
    "    else:\n",
    "        text = torch.cat(text)\n",
    "\n",
    "    return text, offsets, labels"
   ]
  },
  {
   "source": [
    "### Train/Test function"
   ],
   "cell_type": "markdown",
   "metadata": {}
  },
  {
   "cell_type": "code",
   "execution_count": 10,
   "metadata": {},
   "outputs": [],
   "source": [
    "from torch.utils.data import DataLoader\n",
    "\n",
    "optimizer = torch.optim.Adam(cnn_model.parameters(), lr=0.001)\n",
    "criterion = torch.nn.CrossEntropyLoss().to(device)\n",
    "\n",
    "def cnn_train_func(sub_train_):\n",
    "    train_loss = 0\n",
    "    train_acc = 0\n",
    "\n",
    "    data = DataLoader(sub_train_, batch_size=BATCH_SIZE, \n",
    "                        shuffle=True, collate_fn=generate_batch)\n",
    "    \n",
    "    for i, (text, offsets, cls) in enumerate(data):\n",
    "        optimizer.zero_grad()\n",
    "        text, offsets, cls = text.to(device), offsets.to(device), cls.to(device)\n",
    "        \n",
    "        output = cnn_model(text, offsets)\n",
    "        \n",
    "        loss = criterion(output, cls)\n",
    "        train_loss += loss.item()\n",
    "        \n",
    "        loss.backward()\n",
    "        optimizer.step()\n",
    "        \n",
    "        train_acc += (output.argmax(1) == cls).sum().item()\n",
    "\n",
    "    # scheduler.step()\n",
    "\n",
    "    return train_loss/len(sub_train_), train_acc/len(sub_train_)\n",
    "\n",
    "def cnn_test(data_):\n",
    "    test_loss = 0\n",
    "    acc = 0\n",
    "\n",
    "    y_true, y_pred = [], []\n",
    "\n",
    "    data = DataLoader(data_, batch_size=BATCH_SIZE, collate_fn=generate_batch) \n",
    "\n",
    "    for text, offsets, cls in data:\n",
    "        text, offsets, cls = text.to(device), offsets.to(device), cls.to(device)\n",
    "        with torch.no_grad():\n",
    "            output = cnn_model(text, offsets)\n",
    "            loss = criterion(output, cls)\n",
    "            test_loss += loss.item()\n",
    "            acc += (output.argmax(1) == cls).sum().item()\n",
    "\n",
    "            y_pred += output.argmax(1)\n",
    "            y_true += cls\n",
    "\n",
    "    return test_loss/len(data_), acc/len(data_), y_true, y_pred"
   ]
  },
  {
   "source": [
    "### Training"
   ],
   "cell_type": "markdown",
   "metadata": {}
  },
  {
   "cell_type": "code",
   "execution_count": 11,
   "metadata": {},
   "outputs": [
    {
     "output_type": "stream",
     "name": "stdout",
     "text": [
      "Epoch: 1  | time in 8 minutes, 13 seconds\n",
      "\tLoss: 0.0343(train)\t|\tAcc: 80.2%(train)\n",
      "\tLoss: 0.0205(valid)\t|\tAcc: 88.8%(valid)\n",
      "Epoch: 2  | time in 8 minutes, 7 seconds\n",
      "\tLoss: 0.0166(train)\t|\tAcc: 91.2%(train)\n",
      "\tLoss: 0.0149(valid)\t|\tAcc: 92.2%(valid)\n",
      "Epoch: 3  | time in 8 minutes, 10 seconds\n",
      "\tLoss: 0.0129(train)\t|\tAcc: 93.3%(train)\n",
      "\tLoss: 0.0130(valid)\t|\tAcc: 93.5%(valid)\n",
      "Epoch: 4  | time in 8 minutes, 25 seconds\n",
      "\tLoss: 0.0112(train)\t|\tAcc: 94.1%(train)\n",
      "\tLoss: 0.0123(valid)\t|\tAcc: 93.5%(valid)\n",
      "Epoch: 5  | time in 8 minutes, 47 seconds\n",
      "\tLoss: 0.0102(train)\t|\tAcc: 94.6%(train)\n",
      "\tLoss: 0.0113(valid)\t|\tAcc: 94.3%(valid)\n",
      "Epoch: 6  | time in 8 minutes, 31 seconds\n",
      "\tLoss: 0.0096(train)\t|\tAcc: 95.0%(train)\n",
      "\tLoss: 0.0104(valid)\t|\tAcc: 94.7%(valid)\n",
      "Epoch: 7  | time in 7 minutes, 54 seconds\n",
      "\tLoss: 0.0091(train)\t|\tAcc: 95.2%(train)\n",
      "\tLoss: 0.0104(valid)\t|\tAcc: 94.8%(valid)\n",
      "Epoch: 8  | time in 7 minutes, 53 seconds\n",
      "\tLoss: 0.0087(train)\t|\tAcc: 95.4%(train)\n",
      "\tLoss: 0.0103(valid)\t|\tAcc: 94.9%(valid)\n",
      "Epoch: 9  | time in 7 minutes, 52 seconds\n",
      "\tLoss: 0.0084(train)\t|\tAcc: 95.6%(train)\n",
      "\tLoss: 0.0108(valid)\t|\tAcc: 94.5%(valid)\n",
      "Epoch: 10  | time in 7 minutes, 8 seconds\n",
      "\tLoss: 0.0082(train)\t|\tAcc: 95.7%(train)\n",
      "\tLoss: 0.0099(valid)\t|\tAcc: 95.0%(valid)\n",
      "Epoch: 11  | time in 320 minutes, 59 seconds\n",
      "\tLoss: 0.0080(train)\t|\tAcc: 95.8%(train)\n",
      "\tLoss: 0.0113(valid)\t|\tAcc: 94.5%(valid)\n",
      "Epoch: 12  | time in 59 minutes, 7 seconds\n",
      "\tLoss: 0.0079(train)\t|\tAcc: 95.9%(train)\n",
      "\tLoss: 0.0099(valid)\t|\tAcc: 94.8%(valid)\n",
      "Epoch: 13  | time in 18 minutes, 32 seconds\n",
      "\tLoss: 0.0077(train)\t|\tAcc: 96.0%(train)\n",
      "\tLoss: 0.0096(valid)\t|\tAcc: 95.2%(valid)\n",
      "Epoch: 14  | time in 7 minutes, 34 seconds\n",
      "\tLoss: 0.0075(train)\t|\tAcc: 96.0%(train)\n",
      "\tLoss: 0.0091(valid)\t|\tAcc: 95.6%(valid)\n",
      "Epoch: 15  | time in 6 minutes, 56 seconds\n",
      "\tLoss: 0.0074(train)\t|\tAcc: 96.1%(train)\n",
      "\tLoss: 0.0092(valid)\t|\tAcc: 95.5%(valid)\n",
      "Epoch: 16  | time in 7 minutes, 0 seconds\n",
      "\tLoss: 0.0073(train)\t|\tAcc: 96.2%(train)\n",
      "\tLoss: 0.0091(valid)\t|\tAcc: 95.5%(valid)\n",
      "Epoch: 17  | time in 7 minutes, 1 seconds\n",
      "\tLoss: 0.0072(train)\t|\tAcc: 96.2%(train)\n",
      "\tLoss: 0.0092(valid)\t|\tAcc: 95.4%(valid)\n",
      "Epoch: 18  | time in 7 minutes, 1 seconds\n",
      "\tLoss: 0.0071(train)\t|\tAcc: 96.3%(train)\n",
      "\tLoss: 0.0089(valid)\t|\tAcc: 95.8%(valid)\n",
      "Epoch: 19  | time in 7 minutes, 12 seconds\n",
      "\tLoss: 0.0070(train)\t|\tAcc: 96.3%(train)\n",
      "\tLoss: 0.0096(valid)\t|\tAcc: 95.3%(valid)\n",
      "Epoch: 20  | time in 7 minutes, 4 seconds\n",
      "\tLoss: 0.0069(train)\t|\tAcc: 96.4%(train)\n",
      "\tLoss: 0.0088(valid)\t|\tAcc: 95.7%(valid)\n",
      "Epoch: 21  | time in 7 minutes, 3 seconds\n",
      "\tLoss: 0.0068(train)\t|\tAcc: 96.4%(train)\n",
      "\tLoss: 0.0087(valid)\t|\tAcc: 95.6%(valid)\n",
      "Epoch: 22  | time in 6 minutes, 46 seconds\n",
      "\tLoss: 0.0068(train)\t|\tAcc: 96.4%(train)\n",
      "\tLoss: 0.0087(valid)\t|\tAcc: 95.8%(valid)\n",
      "Epoch: 23  | time in 6 minutes, 45 seconds\n",
      "\tLoss: 0.0067(train)\t|\tAcc: 96.5%(train)\n",
      "\tLoss: 0.0089(valid)\t|\tAcc: 95.6%(valid)\n",
      "Epoch: 24  | time in 6 minutes, 45 seconds\n",
      "\tLoss: 0.0066(train)\t|\tAcc: 96.5%(train)\n",
      "\tLoss: 0.0088(valid)\t|\tAcc: 95.6%(valid)\n",
      "Epoch: 25  | time in 6 minutes, 54 seconds\n",
      "\tLoss: 0.0066(train)\t|\tAcc: 96.5%(train)\n",
      "\tLoss: 0.0090(valid)\t|\tAcc: 95.7%(valid)\n",
      "Epoch: 26  | time in 7 minutes, 2 seconds\n",
      "\tLoss: 0.0065(train)\t|\tAcc: 96.6%(train)\n",
      "\tLoss: 0.0102(valid)\t|\tAcc: 95.1%(valid)\n",
      "Epoch: 27  | time in 6 minutes, 43 seconds\n",
      "\tLoss: 0.0064(train)\t|\tAcc: 96.6%(train)\n",
      "\tLoss: 0.0088(valid)\t|\tAcc: 95.8%(valid)\n",
      "Epoch: 28  | time in 6 minutes, 43 seconds\n",
      "\tLoss: 0.0064(train)\t|\tAcc: 96.6%(train)\n",
      "\tLoss: 0.0081(valid)\t|\tAcc: 96.2%(valid)\n",
      "Epoch: 29  | time in 6 minutes, 43 seconds\n",
      "\tLoss: 0.0064(train)\t|\tAcc: 96.6%(train)\n",
      "\tLoss: 0.0086(valid)\t|\tAcc: 95.9%(valid)\n",
      "Epoch: 30  | time in 6 minutes, 43 seconds\n",
      "\tLoss: 0.0063(train)\t|\tAcc: 96.7%(train)\n",
      "\tLoss: 0.0082(valid)\t|\tAcc: 96.1%(valid)\n",
      "Epoch: 31  | time in 6 minutes, 43 seconds\n",
      "\tLoss: 0.0063(train)\t|\tAcc: 96.7%(train)\n",
      "\tLoss: 0.0084(valid)\t|\tAcc: 96.0%(valid)\n",
      "Epoch: 32  | time in 6 minutes, 42 seconds\n",
      "\tLoss: 0.0062(train)\t|\tAcc: 96.7%(train)\n",
      "\tLoss: 0.0084(valid)\t|\tAcc: 95.9%(valid)\n",
      "Epoch: 33  | time in 6 minutes, 43 seconds\n",
      "\tLoss: 0.0062(train)\t|\tAcc: 96.7%(train)\n",
      "\tLoss: 0.0084(valid)\t|\tAcc: 96.0%(valid)\n",
      "Epoch: 34  | time in 6 minutes, 42 seconds\n",
      "\tLoss: 0.0062(train)\t|\tAcc: 96.8%(train)\n",
      "\tLoss: 0.0083(valid)\t|\tAcc: 96.2%(valid)\n",
      "Epoch: 35  | time in 6 minutes, 44 seconds\n",
      "\tLoss: 0.0061(train)\t|\tAcc: 96.8%(train)\n",
      "\tLoss: 0.0086(valid)\t|\tAcc: 95.7%(valid)\n",
      "Epoch: 36  | time in 7 minutes, 0 seconds\n",
      "\tLoss: 0.0061(train)\t|\tAcc: 96.8%(train)\n",
      "\tLoss: 0.0090(valid)\t|\tAcc: 95.7%(valid)\n",
      "Epoch: 37  | time in 6 minutes, 57 seconds\n",
      "\tLoss: 0.0061(train)\t|\tAcc: 96.8%(train)\n",
      "\tLoss: 0.0080(valid)\t|\tAcc: 96.2%(valid)\n",
      "Epoch: 38  | time in 7 minutes, 4 seconds\n",
      "\tLoss: 0.0061(train)\t|\tAcc: 96.8%(train)\n",
      "\tLoss: 0.0082(valid)\t|\tAcc: 96.1%(valid)\n",
      "Epoch: 39  | time in 7 minutes, 22 seconds\n",
      "\tLoss: 0.0060(train)\t|\tAcc: 96.8%(train)\n",
      "\tLoss: 0.0081(valid)\t|\tAcc: 96.0%(valid)\n",
      "Epoch: 40  | time in 6 minutes, 54 seconds\n",
      "\tLoss: 0.0060(train)\t|\tAcc: 96.9%(train)\n",
      "\tLoss: 0.0085(valid)\t|\tAcc: 96.0%(valid)\n"
     ]
    }
   ],
   "source": [
    "import time\n",
    "from torch.utils.data.dataset import random_split\n",
    "\n",
    "min_valid_loss = float('inf')\n",
    "\n",
    "loss_file_name = 'loss_cnn.csv'\n",
    "f = open(loss_file_name, 'w+')\n",
    "f.write('epoch,loss')\n",
    "f.write('\\n')\n",
    "\n",
    "optimizer = torch.optim.Adam(cnn_model.parameters(), lr=0.001)\n",
    "criterion = torch.nn.CrossEntropyLoss().to(device)\n",
    "\n",
    "train_len = int(len(train_dataset) * 0.95)\n",
    "sub_train_, sub_valid_ = random_split(train_dataset, [train_len, len(train_dataset) - train_len], generator=torch.Generator().manual_seed(1))\n",
    "\n",
    "N_EPOCHS = 40\n",
    "\n",
    "for epoch in range(N_EPOCHS):\n",
    "    start_time = time.time()\n",
    "    cnn_model.train()\n",
    "    train_loss, train_acc = cnn_train_func(sub_train_)\n",
    "    cnn_model.eval()\n",
    "    valid_loss, valid_acc, _, _  = cnn_test(sub_valid_)\n",
    "\n",
    "    secs = int(time.time() - start_time)\n",
    "    mins = secs / 60\n",
    "    secs = secs % 60\n",
    "\n",
    "    print('Epoch: %d' %(epoch + 1), ' | time in %d minutes, %d seconds' %(mins, secs))\n",
    "    print(f'\\tLoss: {train_loss:.4f}(train)\\t|\\tAcc: {train_acc * 100:.1f}%(train)')\n",
    "    print(f'\\tLoss: {valid_loss:.4f}(valid)\\t|\\tAcc: {valid_acc * 100:.1f}%(valid)')\n",
    "\n",
    "    f.write(str(epoch+1) + ',' + str(valid_loss))\n",
    "    f.write('\\n')\n",
    "\n",
    "f.close()"
   ]
  },
  {
   "source": [
    "### Testing"
   ],
   "cell_type": "markdown",
   "metadata": {}
  },
  {
   "cell_type": "code",
   "execution_count": 12,
   "metadata": {},
   "outputs": [
    {
     "output_type": "stream",
     "name": "stdout",
     "text": [
      "Checking the results of test dataset...\n",
      "\tLoss: 0.0073(test)\t|\tAcc: 96.2%(test)\n",
      "               precision    recall  f1-score   support\n",
      "\n",
      "ongoing-event       0.97      0.97      0.97     35673\n",
      "         meme       0.97      0.94      0.96     14822\n",
      "         news       0.93      0.96      0.95     15084\n",
      "commemorative       0.97      0.94      0.95      2082\n",
      "\n",
      "     accuracy                           0.96     67661\n",
      "    macro avg       0.96      0.95      0.96     67661\n",
      " weighted avg       0.96      0.96      0.96     67661\n",
      "\n",
      "Index(['epoch', 'loss'], dtype='object')\n"
     ]
    },
    {
     "output_type": "display_data",
     "data": {
      "text/plain": "<Figure size 432x288 with 1 Axes>",
      "image/svg+xml": "<?xml version=\"1.0\" encoding=\"utf-8\" standalone=\"no\"?>\n<!DOCTYPE svg PUBLIC \"-//W3C//DTD SVG 1.1//EN\"\n  \"http://www.w3.org/Graphics/SVG/1.1/DTD/svg11.dtd\">\n<!-- Created with matplotlib (https://matplotlib.org/) -->\n<svg height=\"248.518125pt\" version=\"1.1\" viewBox=\"0 0 384.828125 248.518125\" width=\"384.828125pt\" xmlns=\"http://www.w3.org/2000/svg\" xmlns:xlink=\"http://www.w3.org/1999/xlink\">\n <metadata>\n  <rdf:RDF xmlns:cc=\"http://creativecommons.org/ns#\" xmlns:dc=\"http://purl.org/dc/elements/1.1/\" xmlns:rdf=\"http://www.w3.org/1999/02/22-rdf-syntax-ns#\">\n   <cc:Work>\n    <dc:type rdf:resource=\"http://purl.org/dc/dcmitype/StillImage\"/>\n    <dc:date>2020-12-09T12:04:47.577541</dc:date>\n    <dc:format>image/svg+xml</dc:format>\n    <dc:creator>\n     <cc:Agent>\n      <dc:title>Matplotlib v3.3.2, https://matplotlib.org/</dc:title>\n     </cc:Agent>\n    </dc:creator>\n   </cc:Work>\n  </rdf:RDF>\n </metadata>\n <defs>\n  <style type=\"text/css\">*{stroke-linecap:butt;stroke-linejoin:round;}</style>\n </defs>\n <g id=\"figure_1\">\n  <g id=\"patch_1\">\n   <path d=\"M 0 248.518125 \nL 384.828125 248.518125 \nL 384.828125 0 \nL 0 0 \nz\n\" style=\"fill:none;\"/>\n  </g>\n  <g id=\"axes_1\">\n   <g id=\"patch_2\">\n    <path d=\"M 42.828125 224.64 \nL 377.628125 224.64 \nL 377.628125 7.2 \nL 42.828125 7.2 \nz\n\" style=\"fill:#ffffff;\"/>\n   </g>\n   <g id=\"matplotlib.axis_1\">\n    <g id=\"xtick_1\">\n     <g id=\"line2d_1\">\n      <defs>\n       <path d=\"M 0 0 \nL 0 3.5 \n\" id=\"m92c5f7a6d5\" style=\"stroke:#000000;stroke-width:0.8;\"/>\n      </defs>\n      <g>\n       <use style=\"stroke:#000000;stroke-width:0.8;\" x=\"58.046307\" xlink:href=\"#m92c5f7a6d5\" y=\"224.64\"/>\n      </g>\n     </g>\n     <g id=\"text_1\">\n      <!-- 0 -->\n      <g transform=\"translate(54.865057 239.238438)scale(0.1 -0.1)\">\n       <defs>\n        <path d=\"M 31.78125 66.40625 \nQ 24.171875 66.40625 20.328125 58.90625 \nQ 16.5 51.421875 16.5 36.375 \nQ 16.5 21.390625 20.328125 13.890625 \nQ 24.171875 6.390625 31.78125 6.390625 \nQ 39.453125 6.390625 43.28125 13.890625 \nQ 47.125 21.390625 47.125 36.375 \nQ 47.125 51.421875 43.28125 58.90625 \nQ 39.453125 66.40625 31.78125 66.40625 \nz\nM 31.78125 74.21875 \nQ 44.046875 74.21875 50.515625 64.515625 \nQ 56.984375 54.828125 56.984375 36.375 \nQ 56.984375 17.96875 50.515625 8.265625 \nQ 44.046875 -1.421875 31.78125 -1.421875 \nQ 19.53125 -1.421875 13.0625 8.265625 \nQ 6.59375 17.96875 6.59375 36.375 \nQ 6.59375 54.828125 13.0625 64.515625 \nQ 19.53125 74.21875 31.78125 74.21875 \nz\n\" id=\"DejaVuSans-48\"/>\n       </defs>\n       <use xlink:href=\"#DejaVuSans-48\"/>\n      </g>\n     </g>\n    </g>\n    <g id=\"xtick_2\">\n     <g id=\"line2d_2\">\n      <g>\n       <use style=\"stroke:#000000;stroke-width:0.8;\" x=\"97.067286\" xlink:href=\"#m92c5f7a6d5\" y=\"224.64\"/>\n      </g>\n     </g>\n     <g id=\"text_2\">\n      <!-- 5 -->\n      <g transform=\"translate(93.886036 239.238438)scale(0.1 -0.1)\">\n       <defs>\n        <path d=\"M 10.796875 72.90625 \nL 49.515625 72.90625 \nL 49.515625 64.59375 \nL 19.828125 64.59375 \nL 19.828125 46.734375 \nQ 21.96875 47.46875 24.109375 47.828125 \nQ 26.265625 48.1875 28.421875 48.1875 \nQ 40.625 48.1875 47.75 41.5 \nQ 54.890625 34.8125 54.890625 23.390625 \nQ 54.890625 11.625 47.5625 5.09375 \nQ 40.234375 -1.421875 26.90625 -1.421875 \nQ 22.3125 -1.421875 17.546875 -0.640625 \nQ 12.796875 0.140625 7.71875 1.703125 \nL 7.71875 11.625 \nQ 12.109375 9.234375 16.796875 8.0625 \nQ 21.484375 6.890625 26.703125 6.890625 \nQ 35.15625 6.890625 40.078125 11.328125 \nQ 45.015625 15.765625 45.015625 23.390625 \nQ 45.015625 31 40.078125 35.4375 \nQ 35.15625 39.890625 26.703125 39.890625 \nQ 22.75 39.890625 18.8125 39.015625 \nQ 14.890625 38.140625 10.796875 36.28125 \nz\n\" id=\"DejaVuSans-53\"/>\n       </defs>\n       <use xlink:href=\"#DejaVuSans-53\"/>\n      </g>\n     </g>\n    </g>\n    <g id=\"xtick_3\">\n     <g id=\"line2d_3\">\n      <g>\n       <use style=\"stroke:#000000;stroke-width:0.8;\" x=\"136.088265\" xlink:href=\"#m92c5f7a6d5\" y=\"224.64\"/>\n      </g>\n     </g>\n     <g id=\"text_3\">\n      <!-- 10 -->\n      <g transform=\"translate(129.725765 239.238438)scale(0.1 -0.1)\">\n       <defs>\n        <path d=\"M 12.40625 8.296875 \nL 28.515625 8.296875 \nL 28.515625 63.921875 \nL 10.984375 60.40625 \nL 10.984375 69.390625 \nL 28.421875 72.90625 \nL 38.28125 72.90625 \nL 38.28125 8.296875 \nL 54.390625 8.296875 \nL 54.390625 0 \nL 12.40625 0 \nz\n\" id=\"DejaVuSans-49\"/>\n       </defs>\n       <use xlink:href=\"#DejaVuSans-49\"/>\n       <use x=\"63.623047\" xlink:href=\"#DejaVuSans-48\"/>\n      </g>\n     </g>\n    </g>\n    <g id=\"xtick_4\">\n     <g id=\"line2d_4\">\n      <g>\n       <use style=\"stroke:#000000;stroke-width:0.8;\" x=\"175.109244\" xlink:href=\"#m92c5f7a6d5\" y=\"224.64\"/>\n      </g>\n     </g>\n     <g id=\"text_4\">\n      <!-- 15 -->\n      <g transform=\"translate(168.746744 239.238438)scale(0.1 -0.1)\">\n       <use xlink:href=\"#DejaVuSans-49\"/>\n       <use x=\"63.623047\" xlink:href=\"#DejaVuSans-53\"/>\n      </g>\n     </g>\n    </g>\n    <g id=\"xtick_5\">\n     <g id=\"line2d_5\">\n      <g>\n       <use style=\"stroke:#000000;stroke-width:0.8;\" x=\"214.130223\" xlink:href=\"#m92c5f7a6d5\" y=\"224.64\"/>\n      </g>\n     </g>\n     <g id=\"text_5\">\n      <!-- 20 -->\n      <g transform=\"translate(207.767723 239.238438)scale(0.1 -0.1)\">\n       <defs>\n        <path d=\"M 19.1875 8.296875 \nL 53.609375 8.296875 \nL 53.609375 0 \nL 7.328125 0 \nL 7.328125 8.296875 \nQ 12.9375 14.109375 22.625 23.890625 \nQ 32.328125 33.6875 34.8125 36.53125 \nQ 39.546875 41.84375 41.421875 45.53125 \nQ 43.3125 49.21875 43.3125 52.78125 \nQ 43.3125 58.59375 39.234375 62.25 \nQ 35.15625 65.921875 28.609375 65.921875 \nQ 23.96875 65.921875 18.8125 64.3125 \nQ 13.671875 62.703125 7.8125 59.421875 \nL 7.8125 69.390625 \nQ 13.765625 71.78125 18.9375 73 \nQ 24.125 74.21875 28.421875 74.21875 \nQ 39.75 74.21875 46.484375 68.546875 \nQ 53.21875 62.890625 53.21875 53.421875 \nQ 53.21875 48.921875 51.53125 44.890625 \nQ 49.859375 40.875 45.40625 35.40625 \nQ 44.1875 33.984375 37.640625 27.21875 \nQ 31.109375 20.453125 19.1875 8.296875 \nz\n\" id=\"DejaVuSans-50\"/>\n       </defs>\n       <use xlink:href=\"#DejaVuSans-50\"/>\n       <use x=\"63.623047\" xlink:href=\"#DejaVuSans-48\"/>\n      </g>\n     </g>\n    </g>\n    <g id=\"xtick_6\">\n     <g id=\"line2d_6\">\n      <g>\n       <use style=\"stroke:#000000;stroke-width:0.8;\" x=\"253.151202\" xlink:href=\"#m92c5f7a6d5\" y=\"224.64\"/>\n      </g>\n     </g>\n     <g id=\"text_6\">\n      <!-- 25 -->\n      <g transform=\"translate(246.788702 239.238438)scale(0.1 -0.1)\">\n       <use xlink:href=\"#DejaVuSans-50\"/>\n       <use x=\"63.623047\" xlink:href=\"#DejaVuSans-53\"/>\n      </g>\n     </g>\n    </g>\n    <g id=\"xtick_7\">\n     <g id=\"line2d_7\">\n      <g>\n       <use style=\"stroke:#000000;stroke-width:0.8;\" x=\"292.172181\" xlink:href=\"#m92c5f7a6d5\" y=\"224.64\"/>\n      </g>\n     </g>\n     <g id=\"text_7\">\n      <!-- 30 -->\n      <g transform=\"translate(285.809681 239.238438)scale(0.1 -0.1)\">\n       <defs>\n        <path d=\"M 40.578125 39.3125 \nQ 47.65625 37.796875 51.625 33 \nQ 55.609375 28.21875 55.609375 21.1875 \nQ 55.609375 10.40625 48.1875 4.484375 \nQ 40.765625 -1.421875 27.09375 -1.421875 \nQ 22.515625 -1.421875 17.65625 -0.515625 \nQ 12.796875 0.390625 7.625 2.203125 \nL 7.625 11.71875 \nQ 11.71875 9.328125 16.59375 8.109375 \nQ 21.484375 6.890625 26.8125 6.890625 \nQ 36.078125 6.890625 40.9375 10.546875 \nQ 45.796875 14.203125 45.796875 21.1875 \nQ 45.796875 27.640625 41.28125 31.265625 \nQ 36.765625 34.90625 28.71875 34.90625 \nL 20.21875 34.90625 \nL 20.21875 43.015625 \nL 29.109375 43.015625 \nQ 36.375 43.015625 40.234375 45.921875 \nQ 44.09375 48.828125 44.09375 54.296875 \nQ 44.09375 59.90625 40.109375 62.90625 \nQ 36.140625 65.921875 28.71875 65.921875 \nQ 24.65625 65.921875 20.015625 65.03125 \nQ 15.375 64.15625 9.8125 62.3125 \nL 9.8125 71.09375 \nQ 15.4375 72.65625 20.34375 73.4375 \nQ 25.25 74.21875 29.59375 74.21875 \nQ 40.828125 74.21875 47.359375 69.109375 \nQ 53.90625 64.015625 53.90625 55.328125 \nQ 53.90625 49.265625 50.4375 45.09375 \nQ 46.96875 40.921875 40.578125 39.3125 \nz\n\" id=\"DejaVuSans-51\"/>\n       </defs>\n       <use xlink:href=\"#DejaVuSans-51\"/>\n       <use x=\"63.623047\" xlink:href=\"#DejaVuSans-48\"/>\n      </g>\n     </g>\n    </g>\n    <g id=\"xtick_8\">\n     <g id=\"line2d_8\">\n      <g>\n       <use style=\"stroke:#000000;stroke-width:0.8;\" x=\"331.19316\" xlink:href=\"#m92c5f7a6d5\" y=\"224.64\"/>\n      </g>\n     </g>\n     <g id=\"text_8\">\n      <!-- 35 -->\n      <g transform=\"translate(324.83066 239.238438)scale(0.1 -0.1)\">\n       <use xlink:href=\"#DejaVuSans-51\"/>\n       <use x=\"63.623047\" xlink:href=\"#DejaVuSans-53\"/>\n      </g>\n     </g>\n    </g>\n    <g id=\"xtick_9\">\n     <g id=\"line2d_9\">\n      <g>\n       <use style=\"stroke:#000000;stroke-width:0.8;\" x=\"370.214139\" xlink:href=\"#m92c5f7a6d5\" y=\"224.64\"/>\n      </g>\n     </g>\n     <g id=\"text_9\">\n      <!-- 40 -->\n      <g transform=\"translate(363.851639 239.238438)scale(0.1 -0.1)\">\n       <defs>\n        <path d=\"M 37.796875 64.3125 \nL 12.890625 25.390625 \nL 37.796875 25.390625 \nz\nM 35.203125 72.90625 \nL 47.609375 72.90625 \nL 47.609375 25.390625 \nL 58.015625 25.390625 \nL 58.015625 17.1875 \nL 47.609375 17.1875 \nL 47.609375 0 \nL 37.796875 0 \nL 37.796875 17.1875 \nL 4.890625 17.1875 \nL 4.890625 26.703125 \nz\n\" id=\"DejaVuSans-52\"/>\n       </defs>\n       <use xlink:href=\"#DejaVuSans-52\"/>\n       <use x=\"63.623047\" xlink:href=\"#DejaVuSans-48\"/>\n      </g>\n     </g>\n    </g>\n   </g>\n   <g id=\"matplotlib.axis_2\">\n    <g id=\"ytick_1\">\n     <g id=\"line2d_10\">\n      <defs>\n       <path d=\"M 0 0 \nL -3.5 0 \n\" id=\"m60c0b08815\" style=\"stroke:#000000;stroke-width:0.8;\"/>\n      </defs>\n      <g>\n       <use style=\"stroke:#000000;stroke-width:0.8;\" x=\"42.828125\" xlink:href=\"#m60c0b08815\" y=\"215.27717\"/>\n      </g>\n     </g>\n     <g id=\"text_10\">\n      <!-- 0.008 -->\n      <g transform=\"translate(7.2 219.076389)scale(0.1 -0.1)\">\n       <defs>\n        <path d=\"M 10.6875 12.40625 \nL 21 12.40625 \nL 21 0 \nL 10.6875 0 \nz\n\" id=\"DejaVuSans-46\"/>\n        <path d=\"M 31.78125 34.625 \nQ 24.75 34.625 20.71875 30.859375 \nQ 16.703125 27.09375 16.703125 20.515625 \nQ 16.703125 13.921875 20.71875 10.15625 \nQ 24.75 6.390625 31.78125 6.390625 \nQ 38.8125 6.390625 42.859375 10.171875 \nQ 46.921875 13.96875 46.921875 20.515625 \nQ 46.921875 27.09375 42.890625 30.859375 \nQ 38.875 34.625 31.78125 34.625 \nz\nM 21.921875 38.8125 \nQ 15.578125 40.375 12.03125 44.71875 \nQ 8.5 49.078125 8.5 55.328125 \nQ 8.5 64.0625 14.71875 69.140625 \nQ 20.953125 74.21875 31.78125 74.21875 \nQ 42.671875 74.21875 48.875 69.140625 \nQ 55.078125 64.0625 55.078125 55.328125 \nQ 55.078125 49.078125 51.53125 44.71875 \nQ 48 40.375 41.703125 38.8125 \nQ 48.828125 37.15625 52.796875 32.3125 \nQ 56.78125 27.484375 56.78125 20.515625 \nQ 56.78125 9.90625 50.3125 4.234375 \nQ 43.84375 -1.421875 31.78125 -1.421875 \nQ 19.734375 -1.421875 13.25 4.234375 \nQ 6.78125 9.90625 6.78125 20.515625 \nQ 6.78125 27.484375 10.78125 32.3125 \nQ 14.796875 37.15625 21.921875 38.8125 \nz\nM 18.3125 54.390625 \nQ 18.3125 48.734375 21.84375 45.5625 \nQ 25.390625 42.390625 31.78125 42.390625 \nQ 38.140625 42.390625 41.71875 45.5625 \nQ 45.3125 48.734375 45.3125 54.390625 \nQ 45.3125 60.0625 41.71875 63.234375 \nQ 38.140625 66.40625 31.78125 66.40625 \nQ 25.390625 66.40625 21.84375 63.234375 \nQ 18.3125 60.0625 18.3125 54.390625 \nz\n\" id=\"DejaVuSans-56\"/>\n       </defs>\n       <use xlink:href=\"#DejaVuSans-48\"/>\n       <use x=\"63.623047\" xlink:href=\"#DejaVuSans-46\"/>\n       <use x=\"95.410156\" xlink:href=\"#DejaVuSans-48\"/>\n       <use x=\"159.033203\" xlink:href=\"#DejaVuSans-48\"/>\n       <use x=\"222.65625\" xlink:href=\"#DejaVuSans-56\"/>\n      </g>\n     </g>\n    </g>\n    <g id=\"ytick_2\">\n     <g id=\"line2d_11\">\n      <g>\n       <use style=\"stroke:#000000;stroke-width:0.8;\" x=\"42.828125\" xlink:href=\"#m60c0b08815\" y=\"183.593294\"/>\n      </g>\n     </g>\n     <g id=\"text_11\">\n      <!-- 0.010 -->\n      <g transform=\"translate(7.2 187.392513)scale(0.1 -0.1)\">\n       <use xlink:href=\"#DejaVuSans-48\"/>\n       <use x=\"63.623047\" xlink:href=\"#DejaVuSans-46\"/>\n       <use x=\"95.410156\" xlink:href=\"#DejaVuSans-48\"/>\n       <use x=\"159.033203\" xlink:href=\"#DejaVuSans-49\"/>\n       <use x=\"222.65625\" xlink:href=\"#DejaVuSans-48\"/>\n      </g>\n     </g>\n    </g>\n    <g id=\"ytick_3\">\n     <g id=\"line2d_12\">\n      <g>\n       <use style=\"stroke:#000000;stroke-width:0.8;\" x=\"42.828125\" xlink:href=\"#m60c0b08815\" y=\"151.909419\"/>\n      </g>\n     </g>\n     <g id=\"text_12\">\n      <!-- 0.012 -->\n      <g transform=\"translate(7.2 155.708637)scale(0.1 -0.1)\">\n       <use xlink:href=\"#DejaVuSans-48\"/>\n       <use x=\"63.623047\" xlink:href=\"#DejaVuSans-46\"/>\n       <use x=\"95.410156\" xlink:href=\"#DejaVuSans-48\"/>\n       <use x=\"159.033203\" xlink:href=\"#DejaVuSans-49\"/>\n       <use x=\"222.65625\" xlink:href=\"#DejaVuSans-50\"/>\n      </g>\n     </g>\n    </g>\n    <g id=\"ytick_4\">\n     <g id=\"line2d_13\">\n      <g>\n       <use style=\"stroke:#000000;stroke-width:0.8;\" x=\"42.828125\" xlink:href=\"#m60c0b08815\" y=\"120.225543\"/>\n      </g>\n     </g>\n     <g id=\"text_13\">\n      <!-- 0.014 -->\n      <g transform=\"translate(7.2 124.024761)scale(0.1 -0.1)\">\n       <use xlink:href=\"#DejaVuSans-48\"/>\n       <use x=\"63.623047\" xlink:href=\"#DejaVuSans-46\"/>\n       <use x=\"95.410156\" xlink:href=\"#DejaVuSans-48\"/>\n       <use x=\"159.033203\" xlink:href=\"#DejaVuSans-49\"/>\n       <use x=\"222.65625\" xlink:href=\"#DejaVuSans-52\"/>\n      </g>\n     </g>\n    </g>\n    <g id=\"ytick_5\">\n     <g id=\"line2d_14\">\n      <g>\n       <use style=\"stroke:#000000;stroke-width:0.8;\" x=\"42.828125\" xlink:href=\"#m60c0b08815\" y=\"88.541667\"/>\n      </g>\n     </g>\n     <g id=\"text_14\">\n      <!-- 0.016 -->\n      <g transform=\"translate(7.2 92.340886)scale(0.1 -0.1)\">\n       <defs>\n        <path d=\"M 33.015625 40.375 \nQ 26.375 40.375 22.484375 35.828125 \nQ 18.609375 31.296875 18.609375 23.390625 \nQ 18.609375 15.53125 22.484375 10.953125 \nQ 26.375 6.390625 33.015625 6.390625 \nQ 39.65625 6.390625 43.53125 10.953125 \nQ 47.40625 15.53125 47.40625 23.390625 \nQ 47.40625 31.296875 43.53125 35.828125 \nQ 39.65625 40.375 33.015625 40.375 \nz\nM 52.59375 71.296875 \nL 52.59375 62.3125 \nQ 48.875 64.0625 45.09375 64.984375 \nQ 41.3125 65.921875 37.59375 65.921875 \nQ 27.828125 65.921875 22.671875 59.328125 \nQ 17.53125 52.734375 16.796875 39.40625 \nQ 19.671875 43.65625 24.015625 45.921875 \nQ 28.375 48.1875 33.59375 48.1875 \nQ 44.578125 48.1875 50.953125 41.515625 \nQ 57.328125 34.859375 57.328125 23.390625 \nQ 57.328125 12.15625 50.6875 5.359375 \nQ 44.046875 -1.421875 33.015625 -1.421875 \nQ 20.359375 -1.421875 13.671875 8.265625 \nQ 6.984375 17.96875 6.984375 36.375 \nQ 6.984375 53.65625 15.1875 63.9375 \nQ 23.390625 74.21875 37.203125 74.21875 \nQ 40.921875 74.21875 44.703125 73.484375 \nQ 48.484375 72.75 52.59375 71.296875 \nz\n\" id=\"DejaVuSans-54\"/>\n       </defs>\n       <use xlink:href=\"#DejaVuSans-48\"/>\n       <use x=\"63.623047\" xlink:href=\"#DejaVuSans-46\"/>\n       <use x=\"95.410156\" xlink:href=\"#DejaVuSans-48\"/>\n       <use x=\"159.033203\" xlink:href=\"#DejaVuSans-49\"/>\n       <use x=\"222.65625\" xlink:href=\"#DejaVuSans-54\"/>\n      </g>\n     </g>\n    </g>\n    <g id=\"ytick_6\">\n     <g id=\"line2d_15\">\n      <g>\n       <use style=\"stroke:#000000;stroke-width:0.8;\" x=\"42.828125\" xlink:href=\"#m60c0b08815\" y=\"56.857791\"/>\n      </g>\n     </g>\n     <g id=\"text_15\">\n      <!-- 0.018 -->\n      <g transform=\"translate(7.2 60.65701)scale(0.1 -0.1)\">\n       <use xlink:href=\"#DejaVuSans-48\"/>\n       <use x=\"63.623047\" xlink:href=\"#DejaVuSans-46\"/>\n       <use x=\"95.410156\" xlink:href=\"#DejaVuSans-48\"/>\n       <use x=\"159.033203\" xlink:href=\"#DejaVuSans-49\"/>\n       <use x=\"222.65625\" xlink:href=\"#DejaVuSans-56\"/>\n      </g>\n     </g>\n    </g>\n    <g id=\"ytick_7\">\n     <g id=\"line2d_16\">\n      <g>\n       <use style=\"stroke:#000000;stroke-width:0.8;\" x=\"42.828125\" xlink:href=\"#m60c0b08815\" y=\"25.173915\"/>\n      </g>\n     </g>\n     <g id=\"text_16\">\n      <!-- 0.020 -->\n      <g transform=\"translate(7.2 28.973134)scale(0.1 -0.1)\">\n       <use xlink:href=\"#DejaVuSans-48\"/>\n       <use x=\"63.623047\" xlink:href=\"#DejaVuSans-46\"/>\n       <use x=\"95.410156\" xlink:href=\"#DejaVuSans-48\"/>\n       <use x=\"159.033203\" xlink:href=\"#DejaVuSans-50\"/>\n       <use x=\"222.65625\" xlink:href=\"#DejaVuSans-48\"/>\n      </g>\n     </g>\n    </g>\n   </g>\n   <g id=\"line2d_17\">\n    <path clip-path=\"url(#p425e7d05f5)\" d=\"M 58.046307 17.083636 \nL 65.850503 105.193583 \nL 73.654698 135.703052 \nL 81.458894 147.597445 \nL 89.26309 163.36455 \nL 97.067286 177.326652 \nL 104.871482 177.551278 \nL 112.675677 178.796565 \nL 120.479873 170.384473 \nL 128.284069 185.745303 \nL 136.088265 163.77684 \nL 143.892461 184.830547 \nL 151.696656 190.110953 \nL 159.500852 197.381617 \nL 167.305048 196.641171 \nL 175.109244 198.445895 \nL 182.91344 195.757581 \nL 190.717635 201.207985 \nL 198.521831 189.167244 \nL 206.326027 202.753357 \nL 214.130223 203.875986 \nL 221.934419 204.85979 \nL 229.738615 200.841011 \nL 237.54281 202.534322 \nL 245.347006 200.188301 \nL 253.151202 179.676584 \nL 260.955398 202.617713 \nL 268.759594 213.88576 \nL 276.563789 206.374496 \nL 284.367985 211.515531 \nL 292.172181 209.186617 \nL 299.976377 209.247261 \nL 307.780573 209.088589 \nL 315.584768 211.058113 \nL 323.388964 206.400395 \nL 331.19316 199.257552 \nL 338.997356 214.756364 \nL 346.801552 212.77848 \nL 354.605747 213.000308 \nL 362.409943 207.229054 \n\" style=\"fill:none;stroke:#1f77b4;stroke-linecap:square;stroke-width:1.5;\"/>\n   </g>\n   <g id=\"patch_3\">\n    <path d=\"M 42.828125 224.64 \nL 42.828125 7.2 \n\" style=\"fill:none;stroke:#000000;stroke-linecap:square;stroke-linejoin:miter;stroke-width:0.8;\"/>\n   </g>\n   <g id=\"patch_4\">\n    <path d=\"M 377.628125 224.64 \nL 377.628125 7.2 \n\" style=\"fill:none;stroke:#000000;stroke-linecap:square;stroke-linejoin:miter;stroke-width:0.8;\"/>\n   </g>\n   <g id=\"patch_5\">\n    <path d=\"M 42.828125 224.64 \nL 377.628125 224.64 \n\" style=\"fill:none;stroke:#000000;stroke-linecap:square;stroke-linejoin:miter;stroke-width:0.8;\"/>\n   </g>\n   <g id=\"patch_6\">\n    <path d=\"M 42.828125 7.2 \nL 377.628125 7.2 \n\" style=\"fill:none;stroke:#000000;stroke-linecap:square;stroke-linejoin:miter;stroke-width:0.8;\"/>\n   </g>\n  </g>\n </g>\n <defs>\n  <clipPath id=\"p425e7d05f5\">\n   <rect height=\"217.44\" width=\"334.8\" x=\"42.828125\" y=\"7.2\"/>\n  </clipPath>\n </defs>\n</svg>\n",
      "image/png": "[encoded data removed]"
     },
     "metadata": {
      "needs_background": "light"
     }
    }
   ],
   "source": [
    "print('Checking the results of test dataset...')\n",
    "test_loss, test_acc, y_true, y_pred = cnn_test(test_dataset)\n",
    "print(f'\\tLoss: {test_loss:.4f}(test)\\t|\\tAcc: {test_acc * 100:.1f}%(test)')\n",
    "\n",
    "from sklearn.metrics import classification_report\n",
    "print(classification_report(y_true, y_pred, target_names=ltoi.keys()))\n",
    "\n",
    "import matplotlib.pyplot as plt \n",
    "\n",
    "loss_df = pd.read_csv(loss_file_name)\n",
    "print(loss_df.columns)\n",
    "plt_500_padding_30_epochs = loss_df['loss'].plot()\n",
    "fig = plt_500_padding_30_epochs.get_figure()\n",
    "plt.show()"
   ]
  },
  {
   "cell_type": "code",
   "execution_count": null,
   "metadata": {},
   "outputs": [],
   "source": []
  }
 ]
}