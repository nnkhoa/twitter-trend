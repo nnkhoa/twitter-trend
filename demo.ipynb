{
 "metadata": {
  "language_info": {
   "codemirror_mode": {
    "name": "ipython",
    "version": 3
   },
   "file_extension": ".py",
   "mimetype": "text/x-python",
   "name": "python",
   "nbconvert_exporter": "python",
   "pygments_lexer": "ipython3",
   "version": "3.8.5-final"
  },
  "orig_nbformat": 2,
  "kernelspec": {
   "name": "Python 3.8.5 64-bit ('twitter': conda)",
   "display_name": "Python 3.8.5 64-bit ('twitter': conda)",
   "metadata": {
    "interpreter": {
     "hash": "9a7792acf25e8797fab3c674d79690d254e723492b4b5eb6b43e888f7969c977"
    }
   }
  }
 },
 "nbformat": 4,
 "nbformat_minor": 2,
 "cells": [
  {
   "cell_type": "code",
   "execution_count": 2,
   "metadata": {},
   "outputs": [],
   "source": [
    "from os import listdir\n",
    "from os.path import isfile, join\n",
    "import sys \n",
    "import random\n",
    "import itertools\n",
    "\n",
    "import jsonl_parser\n",
    "import text_preprocess\n",
    "import text_features\n",
    "import data_seperation\n",
    "\n",
    "import pandas as pd\n",
    "import numpy as np\n",
    "from sklearn.feature_extraction.text import TfidfVectorizer, CountVectorizer\n",
    "from sklearn.decomposition import LatentDirichletAllocation\n",
    "from sklearn.cluster import KMeans\n",
    "from sklearn import metrics\n",
    "\n",
    "def load_raw_data(folder_path, trend_list, lang):\n",
    "    # all_file = [join(folder_path, f) for f in listdir(folder_path) if isfile(join(folder_path, f))]\n",
    "    n_sample = 40\n",
    "\n",
    "    list_file = [join(folder_path, f + \".jsonl\") for f in trend_list if isfile(join(folder_path, f +  \".jsonl\"))]\n",
    "\n",
    "    data = []\n",
    "\n",
    "    if n_sample > len(trend_list):\n",
    "        n_sample = len(trend_list)\n",
    "\n",
    "    for f in list_file[:n_sample]:\n",
    "        data.extend(jsonl_parser.load_jsonl(f))\n",
    "\n",
    "    print() \n",
    "\n",
    "    data_lang = [entry for entry in data if entry['lang'] == lang]\n",
    "\n",
    "    return data_lang\n",
    "\n",
    "def print_top_word(model, features_name, num_words):\n",
    "    for topic_idx, topic in enumerate(model.components_):\n",
    "        message = \"Topic #%d: \" % topic_idx\n",
    "        message += \" / \".join(features_name[i] for i in topic.argsort()[:-num_words - 1:-1])\n",
    "        print(message)\n",
    "    \n",
    "    print()"
   ]
  },
  {
   "source": [
    "## Data Loading"
   ],
   "cell_type": "markdown",
   "metadata": {}
  },
  {
   "cell_type": "code",
   "execution_count": 3,
   "metadata": {},
   "outputs": [
    {
     "output_type": "stream",
     "name": "stdout",
     "text": [
      "Loaded 269 records from /Users/khoanguyen/Workspace/dataset/twitter-trending/TT-classification/dataset/02a6571d75e06298c8fb794f4a4eb707.jsonl\n",
      "Loaded 677 records from /Users/khoanguyen/Workspace/dataset/twitter-trending/TT-classification/dataset/083b78b643ed8ee8b3dd55a5f3560828.jsonl\n",
      "Loaded 995 records from /Users/khoanguyen/Workspace/dataset/twitter-trending/TT-classification/dataset/01901b07f92e9c67ce8c3bde06b23e79.jsonl\n",
      "Loaded 1039 records from /Users/khoanguyen/Workspace/dataset/twitter-trending/TT-classification/dataset/026ab72f6d6042233ee6c1662237edcd.jsonl\n",
      "Loaded 1157 records from /Users/khoanguyen/Workspace/dataset/twitter-trending/TT-classification/dataset/1569f8f32be7ae04898403c550b47b82.jsonl\n",
      "Loaded 415 records from /Users/khoanguyen/Workspace/dataset/twitter-trending/TT-classification/dataset/1566af974068cee541d4b8112637586f.jsonl\n",
      "Loaded 775 records from /Users/khoanguyen/Workspace/dataset/twitter-trending/TT-classification/dataset/18db5565f70fc1e2abed15cfca8bde15.jsonl\n",
      "Loaded 183 records from /Users/khoanguyen/Workspace/dataset/twitter-trending/TT-classification/dataset/0f5f41cea32fa4acde31536288532a03.jsonl\n",
      "Loaded 925 records from /Users/khoanguyen/Workspace/dataset/twitter-trending/TT-classification/dataset/074a8354b01430461a358776fc302e4e.jsonl\n",
      "Loaded 1014 records from /Users/khoanguyen/Workspace/dataset/twitter-trending/TT-classification/dataset/16c46712ee0e0013bb81e89ddd9afc4e.jsonl\n",
      "Loaded 200 records from /Users/khoanguyen/Workspace/dataset/twitter-trending/TT-classification/dataset/107c976cfa9ca04d4ffff85f74207192.jsonl\n",
      "Loaded 159 records from /Users/khoanguyen/Workspace/dataset/twitter-trending/TT-classification/dataset/16ee3b5edb31e001650905e7f1e0b705.jsonl\n",
      "Loaded 769 records from /Users/khoanguyen/Workspace/dataset/twitter-trending/TT-classification/dataset/083d8bb720451c2ee469587aaf37bd38.jsonl\n",
      "Loaded 273 records from /Users/khoanguyen/Workspace/dataset/twitter-trending/TT-classification/dataset/0f7e0a4a07454baef85b1485b9c9cb0a.jsonl\n",
      "Loaded 839 records from /Users/khoanguyen/Workspace/dataset/twitter-trending/TT-classification/dataset/1e8afb32c771e3038d3ca3aee7f70e29.jsonl\n",
      "Loaded 90 records from /Users/khoanguyen/Workspace/dataset/twitter-trending/TT-classification/dataset/1e9a9f384859b55d865da7d72170d182.jsonl\n",
      "Loaded 1142 records from /Users/khoanguyen/Workspace/dataset/twitter-trending/TT-classification/dataset/18d0ff1b631a28960f41118fc426dc15.jsonl\n",
      "Loaded 170 records from /Users/khoanguyen/Workspace/dataset/twitter-trending/TT-classification/dataset/1928a801fee9cb57fe2daa608f6714a7.jsonl\n",
      "Loaded 1028 records from /Users/khoanguyen/Workspace/dataset/twitter-trending/TT-classification/dataset/1f8fd654cd8f1db3e7d1353284fef14b.jsonl\n",
      "Loaded 900 records from /Users/khoanguyen/Workspace/dataset/twitter-trending/TT-classification/dataset/1ff3f83ee1c47eecce7fc6118bade107.jsonl\n",
      "Loaded 226 records from /Users/khoanguyen/Workspace/dataset/twitter-trending/TT-classification/dataset/1213e41f01638b3cbd00077d23473284.jsonl\n",
      "Loaded 211 records from /Users/khoanguyen/Workspace/dataset/twitter-trending/TT-classification/dataset/0282eb46886911d472fe237a5817ad09.jsonl\n",
      "Loaded 1071 records from /Users/khoanguyen/Workspace/dataset/twitter-trending/TT-classification/dataset/166d82840a3b72f654d0c86829a55407.jsonl\n",
      "Loaded 891 records from /Users/khoanguyen/Workspace/dataset/twitter-trending/TT-classification/dataset/1406dad51b322f589da21c9cdd536936.jsonl\n",
      "\n"
     ]
    }
   ],
   "source": [
    "annotated = data_seperation.get_data('news')\n",
    "\n",
    "trend_list = annotated['id'].tolist()\n",
    "\n",
    "data = load_raw_data('/Users/khoanguyen/Workspace/dataset/twitter-trending/TT-classification/dataset/', trend_list, 'en')\n",
    "\n",
    "df = pd.DataFrame(data)\n",
    "\n",
    "df['trend_hash'].value_counts()\n",
    "\n",
    "df['text'] = df['text'].apply(lambda x: text_preprocess.remove_hyperlink(x))\n",
    "\n",
    "df_trend = df[['text', 'trend_hash']]\n",
    "\n",
    "trend_label = text_features.trend_mapping(set(df_trend['trend_hash'].tolist()))\n",
    "\n",
    "df_trend['label'] = df_trend.apply(lambda row: trend_label[row.trend_hash], axis=1)"
   ]
  },
  {
   "source": [
    "## Latent Dirichlet Allocation Topic Modeling\n",
    "\n",
    "### Unigram feature"
   ],
   "cell_type": "markdown",
   "metadata": {}
  },
  {
   "cell_type": "code",
   "execution_count": 8,
   "metadata": {},
   "outputs": [
    {
     "output_type": "stream",
     "name": "stdout",
     "text": [
      "Topic #0: corinne / rae / bailey / rt / 2011 / javajazz2011 / jjf / santana / paris / fourplay\nTopic #1: warner / bros / rt / tmz / bad / francis / following / issued / stateme / lawrence\nTopic #2: just / balenciaga / rt / know / going / don / oh / want / got / ll\nTopic #3: balenciaga / time / fashion / really / miranda / kerr / week / face / lol / little\nTopic #4: great / eric / cantona / day / big / pele / star / rt / amazing / football\nTopic #5: blade / runner / video / love / tomorrow / rt / william / director / music / cut\nTopic #6: royal / faces / balenciaga / spring / long / hit / jacket / late / lambskin / magazine\nTopic #7: smart / covers / ipad / ipad2 / garageband / rt / imovie / case / cameras / thinner\nTopic #8: ap / says / live / rt / team / end / press / manager / united / night\nTopic #9: best / bag / think / photo / np / links / ron / summer / picture / online\nTopic #10: fandango / movie / tickets / wedding / deal / livingsocial / social / living / deals / tix\nTopic #11: rick / barnes / com / texas / looks / did / like / foreign / year / rt\nTopic #12: work / report / rt / padilha / reboot / talks / mgm / come / runner / blade\nTopic #13: balenciaga / rt / march / sex / conference / man / available / vince / handbags / spain\nTopic #14: half / men / sheen / charlie / fired / rt / just / charliesheen / officially / news\nTopic #15: new / ipad / today / apple / garageband / imovie / announces / announced / apps / run\nTopic #16: duke / survive / ut / british / vargas / brown / rt / llosa / business / bit\nTopic #17: like / new / garageband / ipad / apple / imovie / rt / wait / announces / techcrunch\nTopic #18: role / cantona / eric / kick / kung / fu / rt / palace / manchester / fan\nTopic #19: andrew / prince / nears / woes / distraction / barry / bannan / downgraded / loan / leeds\nTopic #20: rt / news / mike / good / destefano / comedian / orlando / way / rip / bloom\nTopic #21: prince / andrew / trade / hague / uk / envoy / coach / defended / buckingham / afp\nTopic #22: eric / cantona / united / king / rt / alex / sir / free / 10 / lead\nTopic #23: game / old / does / wangmene / games / alexis / suspension / rick / ghost / pc\n\n"
     ]
    }
   ],
   "source": [
    "tf, features = text_features.generate_term_freq(df['text'], 1)\n",
    "\n",
    "tf_uni_array = tf.toarray()\n",
    "\n",
    "lda = LatentDirichletAllocation(n_components=22,\n",
    "                                    max_iter=10, \n",
    "                                    learning_method='online', \n",
    "                                    learning_offset=50.,\n",
    "                                    random_state=0)\n",
    "\n",
    "lda.fit(tf)\n",
    "\n",
    "print_top_word(lda, features, 10)"
   ]
  },
  {
   "source": [
    "### Bigram feature "
   ],
   "cell_type": "markdown",
   "metadata": {}
  },
  {
   "cell_type": "code",
   "execution_count": 9,
   "metadata": {},
   "outputs": [
    {
     "output_type": "stream",
     "name": "stdout",
     "text": [
      "Topic #0: apple announced / today apple / announced new / new apps / ipad today / apps ipad / ipad run / run th / orlando bloom / imovie garageband\nTopic #1: blade runner / warner bros / sheen half / just fired / bros just / fired charlie / tmz warner / rt tmz / men warner / issued following\nTopic #2: movie tickets / tickets fandango / fandango movie / living social / livingsocial fandango / social deal / deal fandango / fandango livingsocial / social fandango / dealsplus movie\nTopic #3: barry bannan / end season / bannan loan / leeds united / new ipad / balenciaga spain / loan leeds / prince andrew / season avfc / spain symposium\nTopic #4: prince andrew / wedding nears / royal wedding / faces woes / andrew faces / woes royal / distraction wedding / andrew woes / trade role / woes distraction\nTopic #5: blade runner / rt justinbieber / directors cut / weekend going / justinbieber tomorrow / just weekend / nsn3d theatres / theatres just / tomorrow time / cut nsn3d\nTopic #6: william hague / foreign secretary / secretary william / andrew criticism / jo dee / dee messina / rally support / role buckingham / palace william / hague rally\nTopic #7: miranda kerr / committed trade / andrew committed / smart covers / fashion week / balenciaga fashion / bloom miranda / kerr balenciaga / cristobal balenciaga / wakes ipad\nTopic #8: mike destefano / comedian mike / destefano left / left missed / punchlinemag comedian / rt punchlinemag / bloom balenciaga / runway pfw / baby runway / post baby\nTopic #9: prince andrew / defended hague / andrew defended / eric cantona / manchester united / teenage masseuse / masseuse fixer / andrew teenage / trio prince / odd trio\nTopic #10: garageband ipad / imovie garageband / apple announces / new imovie / announces new / techcrunch apple / john biggs / biggs techcrunch / thinner lighter / ipad john\nTopic #11: eric cantona / kung fu / fu kick / cantona kung / cantona pele / kick footballers / like dream / kick hooligan / hooligan like / dream fans\nTopic #12: rick barnes / coach rick / texas coach / blade runner / alexis wangmene / jose padilha / wangmene suspension / suspension games / barnes alexis / youtube video\nTopic #13: smart covers / imovie garageband / faster lighter / lighter thinner / ipad smart / thinner cameras / ios facetime / covers ipad / ipad2 smart / covers look\nTopic #14: francis lawrence / music video / judas music / director francis / video shot / shot weeks / today livingsocial / bad romance / romance director / gaga revealed\nTopic #15: mike destefano / rip mike / destefano died / just heard / big band / king big / ron king / shows santana / fourplay ron / band corinne\nTopic #16: eric cantona / kung fu / fu kick / highlight career / palace fan / kick crystal / crystal palace / legend eric / cantona describes / fan highlight\nTopic #17: daily deals / deal movie / best daily / tickets addthis / win league / think win / league eric / team great / great team / great manager\nTopic #18: bailey rae / corinne bailey / rt javajazz2011 / sondre lerche / blade runner / like star / java jazz / ghost blade / runner game / game pc\nTopic #19: half men / charlie sheen / fired half / sheen fired / warner bros / officially fired / sheen officially / ap ap / men notwinning / services half\nTopic #20: livingsocial deal / deal today / jody bernal / today movie / face fandango / face face / cantona acting / cosmos calling / calling end / acting career\nTopic #21: francis lawrence / prince andrew / bad romance / rushes contain / palace rushes / andrew lead / nears palace / rt sort3r / saudi trade / trade mission\nTopic #22: fandango com / movie tickets / com movie / tickets livingsocial / com live / hole fetch / live rabbit / rabbit hole / cantona united / fetch deals\nTopic #23: movie tix / tix fandango / eric cantona / pele eric / vargas llosa / press conference / stirs controversy / hot fandango / march 2011 / controversy argentina\n\n"
     ]
    }
   ],
   "source": [
    "tf, features = text_features.generate_term_freq(df['text'], 2)\n",
    "\n",
    "tf_bi_array = tf.toarray()\n",
    "\n",
    "lda = LatentDirichletAllocation(n_components=22,\n",
    "                                    max_iter=10, \n",
    "                                    learning_method='online', \n",
    "                                    learning_offset=50.,\n",
    "                                    random_state=0)\n",
    "\n",
    "lda.fit(tf)\n",
    "\n",
    "print_top_word(lda, features, 10)"
   ]
  },
  {
   "source": [
    "## K-Means clustering"
   ],
   "cell_type": "markdown",
   "metadata": {}
  },
  {
   "cell_type": "code",
   "execution_count": 13,
   "metadata": {},
   "outputs": [
    {
     "output_type": "stream",
     "name": "stdout",
     "text": [
      "Initialization complete\nIteration 0, inertia 10721.41939090688\nIteration 1, inertia 6062.335294125611\nIteration 2, inertia 5927.968285357919\nIteration 3, inertia 5887.125945254181\nIteration 4, inertia 5880.284696633037\nIteration 5, inertia 5878.813430121415\nIteration 6, inertia 5878.1954664912455\nIteration 7, inertia 5877.467910555596\nIteration 8, inertia 5876.960196059383\nIteration 9, inertia 5876.531074959638\nIteration 10, inertia 5876.488878892703\nIteration 11, inertia 5876.457545525773\nIteration 12, inertia 5876.418531502592\nIteration 13, inertia 5876.401203582092\nIteration 14, inertia 5876.3899629706375\nIteration 15, inertia 5876.361774533491\nIteration 16, inertia 5876.321374530544\nIteration 17, inertia 5876.3187199693475\nConverged at iteration 17: strict convergence.\nHomogeneity: 0.837\nCompleteness: 0.763\nV-measure: 0.799\nAdjusted Rand-Index: 0.578\nCluster 0: mike / destefano / comedian / rip / rt / sad / punchlinemag / oh / missed / died /\nCluster 1: bros / warner / tmz / issued / following / stateme / fired / charlie / sheen / just /\nCluster 2: tickets / movie / fandango / livingsocial / deal / com / living / social / today / addthis /\nCluster 3: fixer / teenage / masseuse / trio / odd / guardian / andrew / prince / embarrassments / leads /\nCluster 4: apple / ipad / new / announces / imovie / garageband / announced / apps / today / run /\nCluster 5: sheen / half / charlie / men / fired / warner / rt / bros / winning / terminated /\nCluster 6: wedding / nears / woes / prince / andrew / ap / distraction / royal / faces / months /\nCluster 7: role / trade / downgraded / andrew / prince / afp / report / special / committed / guardian /\nCluster 8: york / paris / new / cosmos / mornings / nights / tour / eric / cantona / singapore /\nCluster 9: francis / lawrence / judas / director / video / romance / weeks / bad / music / shot /\nCluster 10: eric / cantona / united / pele / manager / great / singapore / alex / sir / rt /\nCluster 11: garageband / fandango / ipad / bannan / barry / rt / messina / imovie / ipad2 / cameras /\nCluster 12: balenciaga / rt / tomorrow / bag / fashion / pfw / miranda / kerr / time / going /\nCluster 13: corinne / rae / bailey / javajazz2011 / jjf / nowplaying / np / records / rt / santana /\nCluster 14: blade / runner / prequels / sequels / watching / game / ghost / pc / rt / works /\nCluster 15: prince / andrew / hague / defended / uk / envoy / trade / william / role / sources /\nCluster 16: charliesheen / half / men / fired / got / rt / news / headed / ryanseacrest / enews /\nCluster 17: covers / smart / ipad2 / ipad / case / magnets / cover / new / apple / look /\nCluster 18: barnes / rick / coach / texas / ut / wangmene / games / suspension / alexis / basketball /\nCluster 19: eonline / notwinning / officially / fired / charlie / sheen / half / men / rt / snap /\nCluster 20: kung / fu / kick / cantona / eric / career / highlight / fan / crystal / legend /\nCluster 21: ap / oscar / star / rango / fandango / did / twkts / montage / preliminary / ratings /\n"
     ]
    }
   ],
   "source": [
    "labels = df_trend['label'].tolist()\n",
    "true_k = len(set(labels))\n",
    "\n",
    "tfidf, terms = text_features.generate_tfidf(df['text'])\n",
    "\n",
    "tfidf_array = tfidf.toarray()\n",
    "\n",
    "km = KMeans(n_clusters=true_k, init='k-means++', max_iter=100, n_init=1,\n",
    "            verbose=1)\n",
    "km.fit(tfidf)\n",
    "\n",
    "print(\"Homogeneity: %0.3f\" % metrics.homogeneity_score(labels, km.labels_))\n",
    "print(\"Completeness: %0.3f\" % metrics.completeness_score(labels, km.labels_))\n",
    "print(\"V-measure: %0.3f\" % metrics.v_measure_score(labels, km.labels_))\n",
    "print(\"Adjusted Rand-Index: %.3f\"\n",
    "                    % metrics.adjusted_rand_score(labels, km.labels_))\n",
    "\n",
    "order_centroids = km.cluster_centers_.argsort()[:, ::-1]\n",
    "\n",
    "for i in range(true_k):\n",
    "    print(\"Cluster %d:\" % i, end='')\n",
    "    for ind in order_centroids[i, :10]:\n",
    "        print(' %s /' % terms[ind], end='')\n",
    "    print()\n"
   ]
  },
  {
   "cell_type": "code",
   "execution_count": null,
   "metadata": {},
   "outputs": [],
   "source": []
  }
 ]
}